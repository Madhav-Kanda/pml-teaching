{
 "cells": [
  {
   "cell_type": "code",
   "execution_count": 28,
   "metadata": {},
   "outputs": [],
   "source": [
    "import torch\n",
    "import torch.nn as nn\n",
    "import torch.distributions as dist\n",
    "import torch.autograd.functional as F\n",
    "from torch.func import grad, jacfwd, hessian\n",
    "from math import factorial\n",
    "from ipywidgets import interact\n",
    "\n",
    "\n",
    "from tqdm import tqdm\n",
    "import numpy as np\n",
    "import pandas as pd\n",
    "from sklearn.datasets import make_blobs\n",
    "\n",
    "from tueplots.bundles import beamer_moml\n",
    "import matplotlib.pyplot as plt\n",
    "\n",
    "# Use render mode to run the notebook and save the plots in beamer format\n",
    "# Use interactive mode to run the notebook and show the plots in notebook-friendly format\n",
    "mode = \"render\"  # \"interactive\" or \"render\"\n",
    "\n",
    "if mode == \"render\":\n",
    "    width = 0.6\n",
    "    plt.rcParams.update(beamer_moml(rel_width=width, rel_height=width * 0.8))\n",
    "    # update marker size\n",
    "    plt.rcParams.update({\"lines.markersize\": 4})\n",
    "    plt.rcParams[\"figure.facecolor\"] = \"none\"\n",
    "else:\n",
    "    plt.rcdefaults()\n"
   ]
  },
  {
   "cell_type": "code",
   "execution_count": 29,
   "metadata": {},
   "outputs": [],
   "source": [
    "def plt_show(name=None):\n",
    "    if mode == \"interactive\":\n",
    "        plt.show()\n",
    "    elif mode == \"render\":\n",
    "        plt.savefig(f\"../figures/laplace-approx/{name}.pdf\")\n",
    "    else:\n",
    "        raise ValueError(f\"Unknown mode: {mode}\")"
   ]
  },
  {
   "cell_type": "markdown",
   "metadata": {},
   "source": [
    "## 1D Taylor approximation"
   ]
  },
  {
   "cell_type": "code",
   "execution_count": 30,
   "metadata": {},
   "outputs": [
    {
     "data": {
      "image/png": "[encoded data removed]",
      "text/plain": [
       "<Figure size 330.709x148.819 with 1 Axes>"
      ]
     },
     "metadata": {
      "needs_background": "light"
     },
     "output_type": "display_data"
    }
   ],
   "source": [
    "# Plot\n",
    "f = lambda x: torch.sin(x + 1)\n",
    "\n",
    "x = torch.linspace(-5, 5, 100)\n",
    "plt.plot(x, f(x))\n",
    "plt.xlabel(\"x\")\n",
    "plt.ylabel(\"f(x)\")\n",
    "plt_show(\"sin\")\n"
   ]
  },
  {
   "cell_type": "code",
   "execution_count": 31,
   "metadata": {},
   "outputs": [],
   "source": [
    "def get_taylor_1d_fn(f, x, a, ord):\n",
    "    term = f(a).repeat(x.size())\n",
    "    poly = r\"$\\tilde{f}(x) = $\" + f\"{f(a).item():.2f}\"\n",
    "    for i in range(1, ord + 1):\n",
    "        f = grad(f)\n",
    "        value = f(a)\n",
    "        value_str = f\"{abs(value.item()):.2f}\"\n",
    "        denominator = factorial(i)\n",
    "        poly_term = f\"(x - {a.item():.2f})^{i}\"\n",
    "        term = term + value * (x - a) ** i / denominator\n",
    "        if i <= 5:\n",
    "            poly += (\n",
    "                f\"{' - ' if value < 0 else ' + '}\"\n",
    "                + value_str\n",
    "                + r\"$\\frac{\"\n",
    "                + poly_term\n",
    "                + \"}{\"\n",
    "                + f\"{i}!\"\n",
    "                + \"}\"\n",
    "                + \"$\"\n",
    "            )\n",
    "        elif i == 6:\n",
    "            poly += \" + ...\"\n",
    "    return term.detach().numpy(), poly"
   ]
  },
  {
   "cell_type": "code",
   "execution_count": 32,
   "metadata": {},
   "outputs": [
    {
     "data": {
      "application/vnd.jupyter.widget-view+json": {
       "model_id": "3f96c70b97fe477c88c88da40984d935",
       "version_major": 2,
       "version_minor": 0
      },
      "text/plain": [
       "interactive(children=(IntSlider(value=6, description='ord', max=12), Output()), _dom_classes=('widget-interact…"
      ]
     },
     "metadata": {},
     "output_type": "display_data"
    }
   ],
   "source": [
    "@interact(ord=(0, 12))\n",
    "def plot_1d_taylor(ord):\n",
    "    plt.plot(x, f(x), label=\"f(x)\")\n",
    "    term, poly = get_taylor_1d_fn(f, x, a=torch.tensor(0.0), ord=ord)\n",
    "    plt.plot(\n",
    "        x,\n",
    "        term,\n",
    "        # get_taylor_1d_fn(f, x, a=torch.tensor(0.0), ord=ord),\n",
    "        label=f\"Taylor aproximation\\nPolynomial degree: {ord}\",\n",
    "        linestyle=\"--\",\n",
    "    )\n",
    "    plt.xlabel(\"x\")\n",
    "    plt.ylabel(\"p(x)\")\n",
    "    plt.title(poly)\n",
    "    plt.legend(bbox_to_anchor=(1.05, 1), loc=\"upper left\")\n",
    "    plt.ylim(-1.5, 1.5)\n",
    "    plt_show(f\"sin-taylor-{ord}\")\n"
   ]
  },
  {
   "cell_type": "markdown",
   "metadata": {},
   "source": [
    "## ND Taylor approximation"
   ]
  },
  {
   "cell_type": "markdown",
   "metadata": {},
   "source": [
    "Checking that two times jacobian is a hessian"
   ]
  },
  {
   "cell_type": "code",
   "execution_count": 33,
   "metadata": {},
   "outputs": [
    {
     "data": {
      "text/plain": [
       "tensor([[-0.9093, -0.0000],\n",
       "        [-0.0000, -0.5403]])"
      ]
     },
     "metadata": {},
     "output_type": "display_data"
    },
    {
     "data": {
      "text/plain": [
       "tensor([[-0.9093,  0.0000],\n",
       "        [ 0.0000, -0.5403]])"
      ]
     },
     "metadata": {},
     "output_type": "display_data"
    }
   ],
   "source": [
    "f = lambda x: torch.sin(x[0] + 1) + torch.cos(x[1] - 1)\n",
    "inp = torch.tensor([1.0, 2.0])\n",
    "\n",
    "display(jacfwd(jacfwd(f))(inp))\n",
    "display(hessian(f)(inp))"
   ]
  },
  {
   "cell_type": "code",
   "execution_count": 34,
   "metadata": {},
   "outputs": [
    {
     "name": "stdout",
     "output_type": "stream",
     "text": [
      "torch.Size([1600, 2]) torch.Size([40, 40])\n"
     ]
    },
    {
     "data": {
      "image/png": "[encoded data removed]",
      "text/plain": [
       "<Figure size 330.709x148.819 with 2 Axes>"
      ]
     },
     "metadata": {
      "needs_background": "light"
     },
     "output_type": "display_data"
    }
   ],
   "source": [
    "# define a function which is 45 degree rotated sin function\n",
    "f = lambda x: torch.sin(x.sum() + 1)\n",
    "\n",
    "x = torch.linspace(-5, 5, 40)\n",
    "X1, X2 = torch.meshgrid(x, x)\n",
    "X = torch.stack([X1.ravel(), X2.ravel()], dim=-1)\n",
    "Y = torch.vmap(f)(X).reshape(X1.shape)\n",
    "print(X.shape, Y.shape)\n",
    "\n",
    "plt.contourf(X1, X2, Y, levels=20, vmin=-1, vmax=1, cmap=\"coolwarm\")\n",
    "plt.xlabel(\"$x_1$\")\n",
    "plt.ylabel(\"$x_2$\")\n",
    "plt.colorbar(label=\"$f(x)$\", ticks=[-1, -0.5, 0, 0.5, 1])\n",
    "plt.gca().set_aspect(\"equal\")\n",
    "plt_show(\"sin2d\")\n"
   ]
  },
  {
   "cell_type": "code",
   "execution_count": 35,
   "metadata": {},
   "outputs": [
    {
     "data": {
      "image/png": "[encoded data removed]",
      "text/plain": [
       "<Figure size 330.709x148.819 with 2 Axes>"
      ]
     },
     "metadata": {
      "needs_background": "light"
     },
     "output_type": "display_data"
    }
   ],
   "source": [
    "def nd_taylor_approx(x):\n",
    "    x = x.reshape(1, -1)\n",
    "    term = f(a)\n",
    "    if ord >= 1:\n",
    "        jacobian = jacfwd(f)(a)\n",
    "        term = (term + jacobian @ (x - a).T).squeeze()\n",
    "    if ord >= 2:\n",
    "        hess = hessian(f)(a.ravel())\n",
    "        term = term + (((x - a) @ hess @ (x - a).T) / 2).squeeze()\n",
    "    if ord >= 3:\n",
    "        raise NotImplementedError\n",
    "    return term\n",
    "\n",
    "\n",
    "nd_taylor_approx = torch.vmap(nd_taylor_approx)\n",
    "\n",
    "ord = 2\n",
    "a = torch.tensor([0.0, 0.0], dtype=torch.float64).reshape(1, 2)\n",
    "\n",
    "T_Y = nd_taylor_approx(X).reshape(X1.shape)\n",
    "fig = plt.figure()\n",
    "# add a 3d axis\n",
    "ax = fig.add_subplot(121, projection=\"3d\")\n",
    "ax.plot_surface(X1, X2, Y, cmap=\"coolwarm\", vmin=-1.5, vmax=1.5)\n",
    "ax.set_zlim(-1.5, 1.5)\n",
    "ax2 = fig.add_subplot(122, projection=\"3d\")\n",
    "ax2.plot_surface(X1, X2, T_Y, cmap=\"coolwarm\", vmin=-1.5, vmax=1.5)\n",
    "ax2.set_zlim(-1.5, 1.5)\n",
    "# mappable = ax[0].contourf(X1, X2, Y.reshape(X1.shape), levels=20)\n",
    "# fig.colorbar(mappable, ax=ax[0])\n",
    "# mappable = ax[1].contourf(X1, X2, T_Y, levels=20, vmin=Y.min(), vmax=Y.max())\n",
    "ax.set_xlabel(\"$x_1$\", labelpad=-2)\n",
    "ax2.set_xlabel(\"$x_1$\", labelpad=-2)\n",
    "ax2.set_ylabel(\"$x_2$\", labelpad=-2)\n",
    "ax.set_ylabel(\"$x_2$\", labelpad=-2)\n",
    "fig.suptitle(f\"Taylor approximation\\nPolynomial degree: {ord}\")\n",
    "plt_show(f\"sin2d-taylor-{ord}\")\n"
   ]
  },
  {
   "cell_type": "code",
   "execution_count": 36,
   "metadata": {},
   "outputs": [
    {
     "data": {
      "image/png": "[encoded data removed]",
      "text/plain": [
       "<Figure size 330.709x148.819 with 1 Axes>"
      ]
     },
     "metadata": {
      "needs_background": "light"
     },
     "output_type": "display_data"
    }
   ],
   "source": [
    "plt.plot(x, Y[10, :], label=\"$f(10, x_2)$\")\n",
    "plt.plot(x, T_Y[10, :], label=r\"$\\tilde{{f}}(10, x_2)$\")\n",
    "plt.ylim(-1.5, 1.5)\n",
    "plt.xlabel(\"$x_2$\")\n",
    "plt.ylabel(\"$y$\")\n",
    "plt.legend(bbox_to_anchor=(1.05, 1), loc=\"upper left\")\n",
    "plt.title(\"Cross section at $x_1 = 0$\")\n",
    "plt_show(f\"sin2d-taylor-1d-{ord}\")"
   ]
  },
  {
   "cell_type": "code",
   "execution_count": 37,
   "metadata": {},
   "outputs": [
    {
     "data": {
      "image/png": "[encoded data removed]",
      "text/plain": [
       "<Figure size 330.709x148.819 with 1 Axes>"
      ]
     },
     "metadata": {
      "needs_background": "light"
     },
     "output_type": "display_data"
    }
   ],
   "source": [
    "# Simple PDF approximation and assume it to be our prob function\n",
    "p = torch.distributions.Normal(0, 1)\n",
    "\n",
    "logp = lambda x: p.log_prob(x)\n",
    "\n",
    "# Plot\n",
    "x = torch.linspace(-4, 4, 100)\n",
    "plt.plot(x, logp(x).exp())\n",
    "plt.xlabel(\"x\")\n",
    "plt.ylabel(\"p(x)\")\n",
    "plt_show(\"standard-normal\")\n"
   ]
  },
  {
   "cell_type": "markdown",
   "metadata": {},
   "source": [
    "## Beta prior for coin toss"
   ]
  },
  {
   "cell_type": "code",
   "execution_count": 38,
   "metadata": {},
   "outputs": [],
   "source": [
    "data = torch.tensor([1] * 9 + [0] * 1, dtype=torch.float64)\n",
    "alpha = 2\n",
    "beta = 2\n",
    "\n",
    "\n",
    "def neg_log_prior(theta):\n",
    "    return -dist.Beta(alpha, beta).log_prob(theta)\n",
    "\n",
    "\n",
    "def neg_log_likelihood(theta):\n",
    "    likelihood = torch.where(data == 1, torch.log(theta), torch.log(1 - theta))\n",
    "    #likelihood = dist.Bernoulli(probs=theta).log_prob(data)\n",
    "    return -likelihood.sum()\n",
    "\n",
    "\n",
    "def neg_log_joint(theta):\n",
    "    return neg_log_prior(theta) + neg_log_likelihood(theta)"
   ]
  },
  {
   "cell_type": "code",
   "execution_count": 39,
   "metadata": {},
   "outputs": [
    {
     "data": {
      "image/png": "[encoded data removed]",
      "text/plain": [
       "<Figure size 330.709x148.819 with 2 Axes>"
      ]
     },
     "metadata": {
      "needs_background": "light"
     },
     "output_type": "display_data"
    }
   ],
   "source": [
    "theta_grid = torch.linspace(0.01, 0.99, 100)\n",
    "\n",
    "\n",
    "def plot_prior_and_lik():\n",
    "    prior = torch.exp(-neg_log_prior(theta_grid))\n",
    "    fig, ax = plt.subplots()\n",
    "    ax.plot(theta_grid, prior, label=\"Prior\", color=\"C0\")\n",
    "    twinx = ax.twinx()\n",
    "    twinx.plot(\n",
    "        theta_grid,\n",
    "        torch.exp(-torch.vmap(neg_log_likelihood)(theta_grid)),\n",
    "        label=\"Likelihood\",\n",
    "        color=\"C1\",\n",
    "    )\n",
    "    ax.set_xlabel(r\"$\\theta$\")\n",
    "    ax.set_ylabel(r\"$p(\\theta)$\")\n",
    "    twinx.set_ylabel(r\"$p(D|\\theta)$\")\n",
    "    return fig, ax, twinx\n",
    "\n",
    "\n",
    "fig, ax, twinx = plot_prior_and_lik()\n",
    "fig.legend(bbox_to_anchor=(1.05, 1), loc=\"upper left\")\n",
    "plt_show(\"beta-prior-coin-toss\")\n"
   ]
  },
  {
   "cell_type": "code",
   "execution_count": 40,
   "metadata": {},
   "outputs": [
    {
     "name": "stderr",
     "output_type": "stream",
     "text": [
      "loss=3.61: 100%|██████████| 500/500 [00:00<00:00, 694.99it/s]\n"
     ]
    },
    {
     "name": "stdout",
     "output_type": "stream",
     "text": [
      "tensor(0.8333, requires_grad=True)\n"
     ]
    },
    {
     "data": {
      "image/png": "[encoded data removed]",
      "text/plain": [
       "<Figure size 330.709x148.819 with 1 Axes>"
      ]
     },
     "metadata": {
      "needs_background": "light"
     },
     "output_type": "display_data"
    }
   ],
   "source": [
    "theta_map = torch.tensor(0.5, requires_grad=True)\n",
    "\n",
    "\n",
    "def optimize(theta, epochs, lr):\n",
    "    optimizer = torch.optim.Adam([theta], lr=lr)\n",
    "\n",
    "    pbar = tqdm(range(epochs))\n",
    "    losses = []\n",
    "    for epoch in pbar:\n",
    "        optimizer.zero_grad()\n",
    "        loss = neg_log_joint(theta)\n",
    "        loss.backward()\n",
    "        optimizer.step()\n",
    "        pbar.set_description(f\"loss={loss.item():.2f}\")\n",
    "        losses.append(loss.item())\n",
    "    return losses\n",
    "\n",
    "\n",
    "losses = optimize(theta_map, epochs=500, lr=0.01)\n",
    "print(theta_map)\n",
    "plt.plot(losses)\n",
    "plt.show()"
   ]
  },
  {
   "cell_type": "code",
   "execution_count": 41,
   "metadata": {},
   "outputs": [
    {
     "data": {
      "image/png": "[encoded data removed]",
      "text/plain": [
       "<Figure size 330.709x148.819 with 2 Axes>"
      ]
     },
     "metadata": {
      "needs_background": "light"
     },
     "output_type": "display_data"
    }
   ],
   "source": [
    "fig, ax, twinx = plot_prior_and_lik()\n",
    "with torch.no_grad():\n",
    "    ax.vlines(theta_map.item(), *ax.get_ylim(), label=\"MAP\", color=\"C2\")\n",
    "\n",
    "fig.legend(bbox_to_anchor=(1.05, 1), loc=\"upper left\")\n",
    "plt_show(\"beta-prior-coin-toss-map\")"
   ]
  },
  {
   "cell_type": "code",
   "execution_count": 42,
   "metadata": {},
   "outputs": [],
   "source": [
    "hess = hessian(neg_log_joint)(theta_map)\n",
    "posterior_variance = 1 / hess\n",
    "approx_posterior = dist.Normal(theta_map, posterior_variance**0.5)"
   ]
  },
  {
   "cell_type": "code",
   "execution_count": 43,
   "metadata": {},
   "outputs": [
    {
     "data": {
      "image/png": "[encoded data removed]",
      "text/plain": [
       "<Figure size 330.709x148.819 with 2 Axes>"
      ]
     },
     "metadata": {
      "needs_background": "light"
     },
     "output_type": "display_data"
    }
   ],
   "source": [
    "true_posterior = dist.Beta(alpha + data.sum(), beta + len(data) - data.sum())\n",
    "fig, ax, twinx = plot_prior_and_lik()\n",
    "with torch.no_grad():\n",
    "    ax.plot(\n",
    "        theta_grid,\n",
    "        torch.exp(approx_posterior.log_prob(theta_grid)),\n",
    "        label=\"Laplace Approx Posterior\",\n",
    "        color=\"C3\",\n",
    "        linestyle=\"--\",\n",
    "    )\n",
    "    ax.plot(\n",
    "        theta_grid,\n",
    "        torch.exp(true_posterior.log_prob(theta_grid)),\n",
    "        label=\"True Posterior\",\n",
    "        color=\"C4\",\n",
    "    )\n",
    "    ax.vlines(theta_map.item(), *ax.get_ylim(), label=\"MAP\", color=\"C2\")\n",
    "\n",
    "fig.legend(bbox_to_anchor=(1.05, 1), loc=\"upper left\")\n",
    "plt_show(\"beta-prior-coin-toss-laplace\")"
   ]
  },
  {
   "cell_type": "markdown",
   "metadata": {},
   "source": [
    "## Normal prior for coin toss"
   ]
  },
  {
   "cell_type": "code",
   "execution_count": 44,
   "metadata": {},
   "outputs": [],
   "source": [
    "data = torch.tensor([1] * 9 + [0] * 1, dtype=torch.float64)\n",
    "prior_mean = torch.tensor(-2.0)\n",
    "prior_variance = torch.tensor(1.0)\n",
    "\n",
    "\n",
    "def neg_log_prior(theta):\n",
    "    return -dist.Normal(prior_mean, prior_variance**0.5).log_prob(theta).squeeze()\n",
    "\n",
    "\n",
    "def neg_log_likelihood(theta):\n",
    "    preds = torch.sigmoid(theta)\n",
    "    likelihood = torch.where(data == 1, torch.log(preds), torch.log(1 - preds))\n",
    "    return -likelihood.sum()\n",
    "\n",
    "\n",
    "def neg_log_joint(theta):\n",
    "    return neg_log_prior(theta) + neg_log_likelihood(theta)\n"
   ]
  },
  {
   "cell_type": "code",
   "execution_count": 45,
   "metadata": {},
   "outputs": [
    {
     "data": {
      "image/png": "[encoded data removed]",
      "text/plain": [
       "<Figure size 330.709x148.819 with 2 Axes>"
      ]
     },
     "metadata": {
      "needs_background": "light"
     },
     "output_type": "display_data"
    }
   ],
   "source": [
    "theta_grid = torch.linspace(-5, 5, 100)\n",
    "fig, ax, twinx = plot_prior_and_lik()\n",
    "fig.legend(bbox_to_anchor=(1.05, 1), loc=\"upper left\")\n",
    "plt_show(\"normal-prior-coin-toss\")"
   ]
  },
  {
   "cell_type": "code",
   "execution_count": 46,
   "metadata": {},
   "outputs": [
    {
     "name": "stderr",
     "output_type": "stream",
     "text": [
      "loss=9.28: 100%|██████████| 500/500 [00:00<00:00, 729.16it/s] \n"
     ]
    },
    {
     "name": "stdout",
     "output_type": "stream",
     "text": [
      "tensor(0.5143, requires_grad=True)\n"
     ]
    },
    {
     "data": {
      "image/png": "[encoded data removed]",
      "text/plain": [
       "<Figure size 330.709x148.819 with 1 Axes>"
      ]
     },
     "metadata": {
      "needs_background": "light"
     },
     "output_type": "display_data"
    }
   ],
   "source": [
    "theta_map = torch.tensor(-2.0, requires_grad=True)\n",
    "losses = optimize(theta_map, epochs=500, lr=0.01)\n",
    "\n",
    "print(theta_map)\n",
    "plt.plot(losses)\n",
    "plt.show()\n"
   ]
  },
  {
   "cell_type": "code",
   "execution_count": 47,
   "metadata": {},
   "outputs": [
    {
     "data": {
      "image/png": "[encoded data removed]",
      "text/plain": [
       "<Figure size 330.709x148.819 with 2 Axes>"
      ]
     },
     "metadata": {
      "needs_background": "light"
     },
     "output_type": "display_data"
    }
   ],
   "source": [
    "fig, ax, twinx = plot_prior_and_lik()\n",
    "with torch.no_grad():\n",
    "    ax.vlines(theta_map.item(), *ax.get_ylim(), label=\"MAP\", color=\"C2\")\n",
    "\n",
    "fig.legend(bbox_to_anchor=(1.05, 1), loc=\"upper left\")\n",
    "plt_show(\"normal-prior-coin-toss-map\")"
   ]
  },
  {
   "cell_type": "code",
   "execution_count": 48,
   "metadata": {},
   "outputs": [],
   "source": [
    "hess = hessian(neg_log_joint)(theta_map)\n",
    "posterior_variance = 1 / hess\n",
    "approx_posterior = dist.Normal(theta_map, posterior_variance**0.5)\n"
   ]
  },
  {
   "cell_type": "code",
   "execution_count": 49,
   "metadata": {},
   "outputs": [
    {
     "name": "stdout",
     "output_type": "stream",
     "text": [
      "torch.Size([100])\n"
     ]
    },
    {
     "data": {
      "image/png": "[encoded data removed]",
      "text/plain": [
       "<Figure size 330.709x148.819 with 2 Axes>"
      ]
     },
     "metadata": {
      "needs_background": "light"
     },
     "output_type": "display_data"
    }
   ],
   "source": [
    "fig, ax, twinx = plot_prior_and_lik()\n",
    "with torch.no_grad():\n",
    "    ax.plot(\n",
    "        theta_grid,\n",
    "        torch.exp(approx_posterior.log_prob(theta_grid)),\n",
    "        label=\"Laplace Approx Posterior\",\n",
    "        color=\"C3\",\n",
    "        linestyle=\"--\",\n",
    "    )\n",
    "    ax.vlines(theta_map.item(), *ax.get_ylim(), label=\"MAP\", color=\"C2\")\n",
    "\n",
    "# monte carlo estimation of posterior\n",
    "unnorm_p = torch.exp(-torch.stack([neg_log_joint(theta) for theta in theta_grid]))\n",
    "print(unnorm_p.shape)\n",
    "\n",
    "prior = dist.Normal(prior_mean, prior_variance**0.5)\n",
    "samples = prior.sample((100000,))\n",
    "lik = torch.exp(-torch.vmap(neg_log_likelihood)(samples))\n",
    "approx_evidence = lik.mean()\n",
    "norm_p = unnorm_p / approx_evidence\n",
    "\n",
    "ax.plot(theta_grid, norm_p, label=\"True (MC) Posterior\", color=\"C4\")\n",
    "\n",
    "fig.legend(bbox_to_anchor=(1.05, 1), loc=\"upper left\")\n",
    "plt_show(\"normal-prior-coin-toss-laplace\")\n"
   ]
  },
  {
   "cell_type": "markdown",
   "metadata": {},
   "source": [
    "## Multi-Mode"
   ]
  },
  {
   "cell_type": "code",
   "execution_count": 50,
   "metadata": {},
   "outputs": [
    {
     "data": {
      "image/png": "[encoded data removed]",
      "text/plain": [
       "<Figure size 330.709x148.819 with 1 Axes>"
      ]
     },
     "metadata": {
      "needs_background": "light"
     },
     "output_type": "display_data"
    }
   ],
   "source": [
    "target = dist.MixtureSameFamily(\n",
    "    torch.distributions.Categorical(torch.tensor([0.7, 0.3])),\n",
    "    dist.Normal(torch.tensor([-2.0, 2.0]), torch.tensor([1.0, 1.0])),\n",
    ")\n",
    "\n",
    "plt.plot(theta_grid, torch.exp(target.log_prob(theta_grid)), label=\"Target\")\n",
    "plt.xlabel(r\"$\\theta$\")\n",
    "plt.ylabel(r\"$p(\\theta)$\")\n",
    "plt.legend(bbox_to_anchor=(1.05, 1), loc=\"upper left\")\n",
    "plt_show(\"mixture-density\")"
   ]
  },
  {
   "cell_type": "code",
   "execution_count": 51,
   "metadata": {},
   "outputs": [
    {
     "name": "stderr",
     "output_type": "stream",
     "text": [
      "loss=1.28: 100%|██████████| 500/500 [00:00<00:00, 829.85it/s]\n"
     ]
    },
    {
     "data": {
      "text/plain": [
       "[<matplotlib.lines.Line2D at 0x7f6a30190f40>]"
      ]
     },
     "execution_count": 51,
     "metadata": {},
     "output_type": "execute_result"
    },
    {
     "data": {
      "image/png": "[encoded data removed]",
      "text/plain": [
       "<Figure size 330.709x148.819 with 1 Axes>"
      ]
     },
     "metadata": {
      "needs_background": "light"
     },
     "output_type": "display_data"
    }
   ],
   "source": [
    "neg_log_joint = lambda x: -target.log_prob(x)\n",
    "theta_map = torch.tensor(0.0, requires_grad=True)\n",
    "losses = optimize(theta_map, epochs=500, lr=0.01)\n",
    "plt.plot(losses)"
   ]
  },
  {
   "cell_type": "code",
   "execution_count": 52,
   "metadata": {},
   "outputs": [],
   "source": [
    "hess = hessian(neg_log_joint)(theta_map)\n",
    "posterior_variance = 1 / hess\n",
    "approx_posterior = dist.Normal(theta_map, posterior_variance**0.5)\n"
   ]
  },
  {
   "cell_type": "code",
   "execution_count": 53,
   "metadata": {},
   "outputs": [
    {
     "data": {
      "image/png": "[encoded data removed]",
      "text/plain": [
       "<Figure size 330.709x148.819 with 1 Axes>"
      ]
     },
     "metadata": {
      "needs_background": "light"
     },
     "output_type": "display_data"
    }
   ],
   "source": [
    "plt.plot(theta_grid, torch.exp(target.log_prob(theta_grid)), label=\"Target\")\n",
    "with torch.no_grad():\n",
    "    plt.plot(\n",
    "        theta_grid,\n",
    "        torch.exp(approx_posterior.log_prob(theta_grid)),\n",
    "        label=\"Laplace\\nApproximation\",\n",
    "        linestyle=\"--\",\n",
    "    )\n",
    "plt.xlabel(r\"$\\theta$\")\n",
    "plt.ylabel(r\"$p(\\theta)$\")\n",
    "plt.legend(bbox_to_anchor=(1.05, 1), loc=\"upper left\")\n",
    "plt_show(\"mixture-density-laplace\")"
   ]
  },
  {
   "cell_type": "markdown",
   "metadata": {},
   "source": [
    "## Old"
   ]
  },
  {
   "cell_type": "code",
   "execution_count": 54,
   "metadata": {},
   "outputs": [
    {
     "name": "stdout",
     "output_type": "stream",
     "text": [
      "0 4.0 8.918938636779785\n",
      "100 3.0124826431274414 5.4564642906188965\n",
      "200 2.1752238273620605 3.284738063812256\n",
      "300 1.497883915901184 2.040766716003418\n",
      "400 0.9779170751571655 1.397099494934082\n",
      "500 0.6023826003074646 1.1003708839416504\n",
      "600 0.3488367199897766 0.9797820448875427\n",
      "700 0.18942442536354065 0.9368793368339539\n",
      "800 0.09626010805368423 0.9235715270042419\n",
      "900 0.045690640807151794 0.9199823141098022\n",
      "1000 0.02021404542028904 0.9191428422927856\n",
      "1100 0.008314372971653938 0.9189730882644653\n",
      "1200 0.003170008771121502 0.9189435243606567\n",
      "1300 0.0011164519237354398 0.9189391136169434\n",
      "1400 0.0003617757756728679 0.9189385771751404\n",
      "1500 0.00010737218690337613 0.9189385175704956\n",
      "1600 2.9038295906502753e-05 0.9189385175704956\n",
      "1700 7.114796062523965e-06 0.9189385175704956\n",
      "1800 1.5690019381509046e-06 0.9189385175704956\n",
      "1900 3.091245162067935e-07 0.9189385175704956\n"
     ]
    }
   ],
   "source": [
    "# Optimize logp using SGD\n",
    "theta = torch.tensor(4.0, requires_grad=True)\n",
    "optimizer = torch.optim.AdamW([theta], lr=0.01)\n",
    "\n",
    "for i in range(2000):\n",
    "    optimizer.zero_grad()\n",
    "    loss = -logp(theta)\n",
    "    if i % 100 == 0:\n",
    "        print(i, theta.item(), loss.item())\n",
    "    loss.backward()\n",
    "    optimizer.step()"
   ]
  },
  {
   "cell_type": "code",
   "execution_count": 55,
   "metadata": {},
   "outputs": [
    {
     "data": {
      "text/plain": [
       "tensor(5.3954e-08)"
      ]
     },
     "execution_count": 55,
     "metadata": {},
     "output_type": "execute_result"
    }
   ],
   "source": [
    "theta_map = theta.detach()\n",
    "theta_map\n"
   ]
  },
  {
   "cell_type": "code",
   "execution_count": 56,
   "metadata": {},
   "outputs": [
    {
     "data": {
      "text/plain": [
       "<matplotlib.legend.Legend at 0x7f6a30d168e0>"
      ]
     },
     "execution_count": 56,
     "metadata": {},
     "output_type": "execute_result"
    },
    {
     "name": "stdout",
     "output_type": "stream",
     "text": [
      "Error in callback <function flush_figures at 0x7f6a8325d0d0> (for post_execute):\n"
     ]
    }
   ],
   "source": [
    "plt.plot(x, p.log_prob(x).exp(), label=\"True PDF\")\n",
    "\n",
    "# Plot theta_map point\n",
    "plt.scatter(\n",
    "    0,\n",
    "    p.log_prob(theta_map).exp(),\n",
    "    label=r\"$\\theta_\\textrm{MAP}$\",\n",
    "    color=\"C1\",\n",
    "    zorder=10,\n",
    ")\n",
    "plt.legend()"
   ]
  },
  {
   "cell_type": "code",
   "execution_count": null,
   "metadata": {},
   "outputs": [],
   "source": [
    "hessian = F.hessian(logp, theta_map)\n",
    "hessian\n"
   ]
  },
  {
   "cell_type": "code",
   "execution_count": null,
   "metadata": {},
   "outputs": [],
   "source": [
    "scale = 1 / torch.sqrt(-hessian)\n",
    "scale"
   ]
  },
  {
   "cell_type": "code",
   "execution_count": null,
   "metadata": {},
   "outputs": [],
   "source": [
    "# Approximate the PDF using the Laplace approximation\n",
    "approx_p = dist.Normal(theta_map, scale)\n",
    "approx_p"
   ]
  },
  {
   "cell_type": "code",
   "execution_count": null,
   "metadata": {},
   "outputs": [],
   "source": [
    "# Plot original PDF\n",
    "x = torch.linspace(-10, 10, 100)\n",
    "plt.plot(x, p.log_prob(x).exp(), label=\"True PDF\")\n",
    "# Plot Laplace approximation\n",
    "plt.plot(x, approx_p.log_prob(x).exp(), label=\"Laplace Approximation\", linestyle=\"-.\")\n",
    "plt.legend()"
   ]
  },
  {
   "cell_type": "code",
   "execution_count": null,
   "metadata": {},
   "outputs": [],
   "source": [
    "def laplace_approximation(logp, theta_init, lr=0.01, n_iter=2000):\n",
    "    # Optimize logp using an optimizer\n",
    "    theta = torch.tensor(theta_init, requires_grad=True)\n",
    "    optimizer = torch.optim.AdamW([theta], lr=lr)\n",
    "    for i in range(n_iter):\n",
    "        optimizer.zero_grad()\n",
    "        loss = -logp(theta)\n",
    "        loss.backward()\n",
    "        optimizer.step()\n",
    "    theta_map = theta.detach()\n",
    "    hessian = F.hessian(logp, theta_map)\n",
    "    scale = 1 / torch.sqrt(-hessian)\n",
    "    return dist.Normal(theta_map, scale)\n"
   ]
  },
  {
   "cell_type": "code",
   "execution_count": null,
   "metadata": {},
   "outputs": [],
   "source": [
    "def plot_orig_approx(logp, approx_p, min_x=-10, max_x=10):\n",
    "    # Plot original PDF\n",
    "    x = torch.linspace(min_x, max_x, 500)\n",
    "    plt.plot(x, p.log_prob(x).exp(), label=\"True PDF\")\n",
    "    # Plot Laplace approximation\n",
    "    plt.plot(\n",
    "        x, approx_p.log_prob(x).exp(), label=\"Laplace Approximation\", linestyle=\"-.\"\n",
    "    )\n",
    "    plt.legend()"
   ]
  },
  {
   "cell_type": "code",
   "execution_count": null,
   "metadata": {},
   "outputs": [],
   "source": [
    "# Create a Student's t-distribution\n",
    "p = dist.StudentT(5, 0, 1)\n",
    "logp = lambda x: p.log_prob(x)\n",
    "\n",
    "approx_p = laplace_approximation(logp, 4.0)\n",
    "plot_orig_approx(logp, approx_p)\n"
   ]
  },
  {
   "cell_type": "code",
   "execution_count": null,
   "metadata": {},
   "outputs": [],
   "source": [
    "p = dist.LogNormal(0, 1)\n",
    "logp = lambda x: p.log_prob(x)\n",
    "\n",
    "approx_p = laplace_approximation(logp, 4.0)\n",
    "plot_orig_approx(logp, approx_p, min_x=0.01)\n"
   ]
  },
  {
   "cell_type": "code",
   "execution_count": null,
   "metadata": {},
   "outputs": [],
   "source": [
    "p = dist.Beta(2, 2)\n",
    "logp = lambda x: p.log_prob(x)\n",
    "\n",
    "approx_p = laplace_approximation(logp, 0.5)\n",
    "plot_orig_approx(logp, approx_p, min_x=0, max_x=1)\n"
   ]
  }
 ],
 "metadata": {
  "kernelspec": {
   "display_name": "base",
   "language": "python",
   "name": "python3"
  },
  "language_info": {
   "codemirror_mode": {
    "name": "ipython",
    "version": 3
   },
   "file_extension": ".py",
   "mimetype": "text/x-python",
   "name": "python",
   "nbconvert_exporter": "python",
   "pygments_lexer": "ipython3",
   "version": "3.9.7"
  },
  "orig_nbformat": 4
 },
 "nbformat": 4,
 "nbformat_minor": 2
}
