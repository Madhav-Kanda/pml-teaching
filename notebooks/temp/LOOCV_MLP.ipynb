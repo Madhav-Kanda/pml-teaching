{
 "cells": [
  {
   "cell_type": "code",
   "execution_count": 148,
   "metadata": {},
   "outputs": [],
   "source": [
    "import torch.nn as nn\n",
    "from sklearn.metrics import mean_squared_error, mean_absolute_percentage_error,mean_absolute_error\n",
    "from torch.utils.data import Dataset, DataLoader,Subset\n",
    "from torchvision.transforms import Compose,Lambda,ToTensor\n",
    "from sklearn.model_selection import train_test_split\n",
    "from sklearn.model_selection import LeaveOneOut, KFold\n",
    "import torch\n",
    "import pandas as pd\n",
    "import numpy as np\n",
    "import matplotlib.pyplot as plt\n",
    "import os \n",
    "import random\n",
    "os.environ['CUDA_VISIBLE_DEVICES']=\"3\"\n"
   ]
  },
  {
   "cell_type": "code",
   "execution_count": 174,
   "metadata": {},
   "outputs": [],
   "source": [
    "# Worj with 64 bits in torch\n",
    "torch.set_default_tensor_type(torch.DoubleTensor)"
   ]
  },
  {
   "cell_type": "code",
   "execution_count": 175,
   "metadata": {},
   "outputs": [],
   "source": [
    "def seed_everything(seed=10):\n",
    "    random.seed(seed)\n",
    "    os.environ['PYTHONHASHSEED'] = str(seed)\n",
    "    np.random.seed(seed)\n",
    "    torch.manual_seed(seed)\n",
    "    torch.cuda.manual_seed(seed)\n",
    "    torch.backends.cudnn.deterministic = True\n",
    "seed_everything()"
   ]
  },
  {
   "cell_type": "code",
   "execution_count": 176,
   "metadata": {},
   "outputs": [],
   "source": [
    "dataset = np.load('Final_dataset_51.npy',allow_pickle=True)\n",
    "X = pd.DataFrame(dataset[:,1:-2], dtype=np.float64)\n",
    "y = pd.DataFrame(dataset[:,-1], dtype=np.float64)\n"
   ]
  },
  {
   "cell_type": "code",
   "execution_count": 177,
   "metadata": {},
   "outputs": [],
   "source": [
    "X = torch.tensor(X.values, dtype=torch.float64)\n",
    "Y = torch.tensor(y.values, dtype=torch.float64)"
   ]
  },
  {
   "cell_type": "code",
   "execution_count": 178,
   "metadata": {},
   "outputs": [
    {
     "data": {
      "text/plain": [
       "(torch.Size([51, 307]), (51, 1))"
      ]
     },
     "execution_count": 178,
     "metadata": {},
     "output_type": "execute_result"
    }
   ],
   "source": [
    "X.shape, y.shape"
   ]
  },
  {
   "cell_type": "code",
   "execution_count": 179,
   "metadata": {},
   "outputs": [
    {
     "data": {
      "text/html": [
       "<div>\n",
       "<style scoped>\n",
       "    .dataframe tbody tr th:only-of-type {\n",
       "        vertical-align: middle;\n",
       "    }\n",
       "\n",
       "    .dataframe tbody tr th {\n",
       "        vertical-align: top;\n",
       "    }\n",
       "\n",
       "    .dataframe thead th {\n",
       "        text-align: right;\n",
       "    }\n",
       "</style>\n",
       "<table border=\"1\" class=\"dataframe\">\n",
       "  <thead>\n",
       "    <tr style=\"text-align: right;\">\n",
       "      <th></th>\n",
       "      <th>0</th>\n",
       "      <th>1</th>\n",
       "      <th>2</th>\n",
       "      <th>3</th>\n",
       "      <th>4</th>\n",
       "      <th>5</th>\n",
       "      <th>6</th>\n",
       "      <th>7</th>\n",
       "      <th>8</th>\n",
       "      <th>9</th>\n",
       "      <th>...</th>\n",
       "      <th>297</th>\n",
       "      <th>298</th>\n",
       "      <th>299</th>\n",
       "      <th>300</th>\n",
       "      <th>301</th>\n",
       "      <th>302</th>\n",
       "      <th>303</th>\n",
       "      <th>304</th>\n",
       "      <th>305</th>\n",
       "      <th>306</th>\n",
       "    </tr>\n",
       "  </thead>\n",
       "  <tbody>\n",
       "    <tr>\n",
       "      <th>count</th>\n",
       "      <td>5.100000e+01</td>\n",
       "      <td>5.100000e+01</td>\n",
       "      <td>5.100000e+01</td>\n",
       "      <td>5.100000e+01</td>\n",
       "      <td>5.100000e+01</td>\n",
       "      <td>5.100000e+01</td>\n",
       "      <td>5.100000e+01</td>\n",
       "      <td>5.100000e+01</td>\n",
       "      <td>5.100000e+01</td>\n",
       "      <td>5.100000e+01</td>\n",
       "      <td>...</td>\n",
       "      <td>5.100000e+01</td>\n",
       "      <td>5.100000e+01</td>\n",
       "      <td>5.100000e+01</td>\n",
       "      <td>5.100000e+01</td>\n",
       "      <td>51.000000</td>\n",
       "      <td>51.000000</td>\n",
       "      <td>51.000000</td>\n",
       "      <td>51.000000</td>\n",
       "      <td>51.000000</td>\n",
       "      <td>5.100000e+01</td>\n",
       "    </tr>\n",
       "    <tr>\n",
       "      <th>mean</th>\n",
       "      <td>1.070769e-05</td>\n",
       "      <td>1.071618e-05</td>\n",
       "      <td>1.073616e-05</td>\n",
       "      <td>1.076904e-05</td>\n",
       "      <td>1.081603e-05</td>\n",
       "      <td>1.088863e-05</td>\n",
       "      <td>1.100820e-05</td>\n",
       "      <td>1.121553e-05</td>\n",
       "      <td>1.159973e-05</td>\n",
       "      <td>1.225167e-05</td>\n",
       "      <td>...</td>\n",
       "      <td>7.793171e-07</td>\n",
       "      <td>8.644869e-06</td>\n",
       "      <td>9.548220e-05</td>\n",
       "      <td>1.718276e-03</td>\n",
       "      <td>0.039538</td>\n",
       "      <td>0.143909</td>\n",
       "      <td>0.103729</td>\n",
       "      <td>0.063526</td>\n",
       "      <td>0.006799</td>\n",
       "      <td>3.336587e-06</td>\n",
       "    </tr>\n",
       "    <tr>\n",
       "      <th>std</th>\n",
       "      <td>2.222451e-05</td>\n",
       "      <td>2.222905e-05</td>\n",
       "      <td>2.224373e-05</td>\n",
       "      <td>2.226501e-05</td>\n",
       "      <td>2.229396e-05</td>\n",
       "      <td>2.232711e-05</td>\n",
       "      <td>2.237044e-05</td>\n",
       "      <td>2.238985e-05</td>\n",
       "      <td>2.243879e-05</td>\n",
       "      <td>2.252010e-05</td>\n",
       "      <td>...</td>\n",
       "      <td>1.254102e-06</td>\n",
       "      <td>1.499292e-05</td>\n",
       "      <td>1.514088e-04</td>\n",
       "      <td>2.966517e-03</td>\n",
       "      <td>0.067162</td>\n",
       "      <td>0.251976</td>\n",
       "      <td>0.192649</td>\n",
       "      <td>0.131487</td>\n",
       "      <td>0.014837</td>\n",
       "      <td>7.498785e-06</td>\n",
       "    </tr>\n",
       "    <tr>\n",
       "      <th>min</th>\n",
       "      <td>3.556749e-07</td>\n",
       "      <td>3.555027e-07</td>\n",
       "      <td>3.592872e-07</td>\n",
       "      <td>3.609818e-07</td>\n",
       "      <td>4.040686e-07</td>\n",
       "      <td>4.183824e-07</td>\n",
       "      <td>4.328141e-07</td>\n",
       "      <td>4.765701e-07</td>\n",
       "      <td>5.323838e-07</td>\n",
       "      <td>6.699618e-07</td>\n",
       "      <td>...</td>\n",
       "      <td>5.072023e-10</td>\n",
       "      <td>5.038865e-09</td>\n",
       "      <td>5.875387e-08</td>\n",
       "      <td>8.995459e-07</td>\n",
       "      <td>0.000012</td>\n",
       "      <td>0.000034</td>\n",
       "      <td>0.000017</td>\n",
       "      <td>0.000009</td>\n",
       "      <td>0.000001</td>\n",
       "      <td>3.117331e-10</td>\n",
       "    </tr>\n",
       "    <tr>\n",
       "      <th>25%</th>\n",
       "      <td>1.067454e-06</td>\n",
       "      <td>1.067825e-06</td>\n",
       "      <td>1.068818e-06</td>\n",
       "      <td>1.078658e-06</td>\n",
       "      <td>1.079243e-06</td>\n",
       "      <td>1.167496e-06</td>\n",
       "      <td>1.218321e-06</td>\n",
       "      <td>1.382765e-06</td>\n",
       "      <td>2.132413e-06</td>\n",
       "      <td>2.249076e-06</td>\n",
       "      <td>...</td>\n",
       "      <td>2.511822e-08</td>\n",
       "      <td>2.251575e-07</td>\n",
       "      <td>2.670637e-06</td>\n",
       "      <td>4.674878e-05</td>\n",
       "      <td>0.001304</td>\n",
       "      <td>0.002544</td>\n",
       "      <td>0.000685</td>\n",
       "      <td>0.000323</td>\n",
       "      <td>0.000031</td>\n",
       "      <td>1.044539e-08</td>\n",
       "    </tr>\n",
       "    <tr>\n",
       "      <th>50%</th>\n",
       "      <td>3.516737e-06</td>\n",
       "      <td>3.519233e-06</td>\n",
       "      <td>3.524362e-06</td>\n",
       "      <td>3.531463e-06</td>\n",
       "      <td>3.541209e-06</td>\n",
       "      <td>3.578248e-06</td>\n",
       "      <td>3.648565e-06</td>\n",
       "      <td>3.722174e-06</td>\n",
       "      <td>4.382213e-06</td>\n",
       "      <td>5.774228e-06</td>\n",
       "      <td>...</td>\n",
       "      <td>1.116434e-07</td>\n",
       "      <td>1.237850e-06</td>\n",
       "      <td>1.849383e-05</td>\n",
       "      <td>4.634532e-04</td>\n",
       "      <td>0.010682</td>\n",
       "      <td>0.018821</td>\n",
       "      <td>0.006467</td>\n",
       "      <td>0.003926</td>\n",
       "      <td>0.000442</td>\n",
       "      <td>8.556726e-08</td>\n",
       "    </tr>\n",
       "    <tr>\n",
       "      <th>75%</th>\n",
       "      <td>9.667675e-06</td>\n",
       "      <td>9.687521e-06</td>\n",
       "      <td>9.719614e-06</td>\n",
       "      <td>9.788472e-06</td>\n",
       "      <td>9.867477e-06</td>\n",
       "      <td>9.977690e-06</td>\n",
       "      <td>1.004496e-05</td>\n",
       "      <td>1.009440e-05</td>\n",
       "      <td>1.031907e-05</td>\n",
       "      <td>1.220452e-05</td>\n",
       "      <td>...</td>\n",
       "      <td>6.965439e-07</td>\n",
       "      <td>9.963603e-06</td>\n",
       "      <td>1.112578e-04</td>\n",
       "      <td>1.154455e-03</td>\n",
       "      <td>0.030619</td>\n",
       "      <td>0.093256</td>\n",
       "      <td>0.059803</td>\n",
       "      <td>0.036533</td>\n",
       "      <td>0.003484</td>\n",
       "      <td>1.469251e-06</td>\n",
       "    </tr>\n",
       "    <tr>\n",
       "      <th>max</th>\n",
       "      <td>1.363066e-04</td>\n",
       "      <td>1.363377e-04</td>\n",
       "      <td>1.364201e-04</td>\n",
       "      <td>1.365600e-04</td>\n",
       "      <td>1.367396e-04</td>\n",
       "      <td>1.369708e-04</td>\n",
       "      <td>1.373023e-04</td>\n",
       "      <td>1.376454e-04</td>\n",
       "      <td>1.382303e-04</td>\n",
       "      <td>1.392155e-04</td>\n",
       "      <td>...</td>\n",
       "      <td>4.453005e-06</td>\n",
       "      <td>6.404671e-05</td>\n",
       "      <td>5.528444e-04</td>\n",
       "      <td>1.201147e-02</td>\n",
       "      <td>0.293747</td>\n",
       "      <td>1.105272</td>\n",
       "      <td>0.741801</td>\n",
       "      <td>0.585203</td>\n",
       "      <td>0.065643</td>\n",
       "      <td>3.396095e-05</td>\n",
       "    </tr>\n",
       "  </tbody>\n",
       "</table>\n",
       "<p>8 rows × 307 columns</p>\n",
       "</div>"
      ],
      "text/plain": [
       "                0             1             2             3             4    \\\n",
       "count  5.100000e+01  5.100000e+01  5.100000e+01  5.100000e+01  5.100000e+01   \n",
       "mean   1.070769e-05  1.071618e-05  1.073616e-05  1.076904e-05  1.081603e-05   \n",
       "std    2.222451e-05  2.222905e-05  2.224373e-05  2.226501e-05  2.229396e-05   \n",
       "min    3.556749e-07  3.555027e-07  3.592872e-07  3.609818e-07  4.040686e-07   \n",
       "25%    1.067454e-06  1.067825e-06  1.068818e-06  1.078658e-06  1.079243e-06   \n",
       "50%    3.516737e-06  3.519233e-06  3.524362e-06  3.531463e-06  3.541209e-06   \n",
       "75%    9.667675e-06  9.687521e-06  9.719614e-06  9.788472e-06  9.867477e-06   \n",
       "max    1.363066e-04  1.363377e-04  1.364201e-04  1.365600e-04  1.367396e-04   \n",
       "\n",
       "                5             6             7             8             9    \\\n",
       "count  5.100000e+01  5.100000e+01  5.100000e+01  5.100000e+01  5.100000e+01   \n",
       "mean   1.088863e-05  1.100820e-05  1.121553e-05  1.159973e-05  1.225167e-05   \n",
       "std    2.232711e-05  2.237044e-05  2.238985e-05  2.243879e-05  2.252010e-05   \n",
       "min    4.183824e-07  4.328141e-07  4.765701e-07  5.323838e-07  6.699618e-07   \n",
       "25%    1.167496e-06  1.218321e-06  1.382765e-06  2.132413e-06  2.249076e-06   \n",
       "50%    3.578248e-06  3.648565e-06  3.722174e-06  4.382213e-06  5.774228e-06   \n",
       "75%    9.977690e-06  1.004496e-05  1.009440e-05  1.031907e-05  1.220452e-05   \n",
       "max    1.369708e-04  1.373023e-04  1.376454e-04  1.382303e-04  1.392155e-04   \n",
       "\n",
       "       ...           297           298           299           300        301  \\\n",
       "count  ...  5.100000e+01  5.100000e+01  5.100000e+01  5.100000e+01  51.000000   \n",
       "mean   ...  7.793171e-07  8.644869e-06  9.548220e-05  1.718276e-03   0.039538   \n",
       "std    ...  1.254102e-06  1.499292e-05  1.514088e-04  2.966517e-03   0.067162   \n",
       "min    ...  5.072023e-10  5.038865e-09  5.875387e-08  8.995459e-07   0.000012   \n",
       "25%    ...  2.511822e-08  2.251575e-07  2.670637e-06  4.674878e-05   0.001304   \n",
       "50%    ...  1.116434e-07  1.237850e-06  1.849383e-05  4.634532e-04   0.010682   \n",
       "75%    ...  6.965439e-07  9.963603e-06  1.112578e-04  1.154455e-03   0.030619   \n",
       "max    ...  4.453005e-06  6.404671e-05  5.528444e-04  1.201147e-02   0.293747   \n",
       "\n",
       "             302        303        304        305           306  \n",
       "count  51.000000  51.000000  51.000000  51.000000  5.100000e+01  \n",
       "mean    0.143909   0.103729   0.063526   0.006799  3.336587e-06  \n",
       "std     0.251976   0.192649   0.131487   0.014837  7.498785e-06  \n",
       "min     0.000034   0.000017   0.000009   0.000001  3.117331e-10  \n",
       "25%     0.002544   0.000685   0.000323   0.000031  1.044539e-08  \n",
       "50%     0.018821   0.006467   0.003926   0.000442  8.556726e-08  \n",
       "75%     0.093256   0.059803   0.036533   0.003484  1.469251e-06  \n",
       "max     1.105272   0.741801   0.585203   0.065643  3.396095e-05  \n",
       "\n",
       "[8 rows x 307 columns]"
      ]
     },
     "execution_count": 179,
     "metadata": {},
     "output_type": "execute_result"
    }
   ],
   "source": [
    "pd.DataFrame(X).describe()"
   ]
  },
  {
   "cell_type": "code",
   "execution_count": 180,
   "metadata": {},
   "outputs": [],
   "source": [
    "# Normalize the data\n",
    "from sklearn.preprocessing import StandardScaler\n",
    "scaler = StandardScaler()\n",
    "X = scaler.fit_transform(X)\n",
    "\n",
    "pd.DataFrame(X).describe()\n",
    "X = torch.tensor(X, dtype=torch.float64)\n",
    "X = X.to('cuda')"
   ]
  },
  {
   "cell_type": "code",
   "execution_count": 181,
   "metadata": {},
   "outputs": [],
   "source": [
    "class SimpleMLP(nn.Module):\n",
    "    def __init__(self, input_dim, output_dim):\n",
    "        super(SimpleMLP, self).__init__()\n",
    "        self.fc1 = nn.Linear(input_dim, 512)\n",
    "        self.fc2 = nn.Linear(512, 256)\n",
    "        self.fc3 = nn.Linear(256, 128)\n",
    "        self.fc4 = nn.Linear(128, output_dim)\n",
    "        self.gelu = nn.GELU()\n",
    "        \n",
    "    def forward(self, x):\n",
    "        x = self.fc1(x)\n",
    "        x = torch.sin(x)\n",
    "        x = self.fc2(x)\n",
    "        x = torch.sin(x)\n",
    "        x = self.fc3(x)\n",
    "        x = torch.sin(x)\n",
    "        x = self.fc4(x)\n",
    "        x = torch.exp(x)\n",
    "        return x"
   ]
  },
  {
   "cell_type": "code",
   "execution_count": 182,
   "metadata": {},
   "outputs": [],
   "source": [
    "criterion = nn.MSELoss()\n",
    "\n",
    "\n",
    "def train(model, train_X, train_Y, optimizer, criterion, n_epochs):\n",
    "    \n",
    "    model.train()\n",
    "    losses = []\n",
    "    for epoch in range(n_epochs):\n",
    "        optimizer.zero_grad()\n",
    "        outputs = model(train_X)\n",
    "        loss = criterion(outputs, train_Y)\n",
    "        loss.backward()\n",
    "        optimizer.step()\n",
    "        lossi = loss.item()\n",
    "        #print(epoch, lossi)\n",
    "        losses.append(lossi)\n",
    "    return losses\n"
   ]
  },
  {
   "cell_type": "code",
   "execution_count": 183,
   "metadata": {},
   "outputs": [],
   "source": [
    "def predict(model, test_X):\n",
    "    model.eval()\n",
    "    with torch.no_grad():\n",
    "        predictions = model(test_X)\n",
    "    return predictions"
   ]
  },
  {
   "cell_type": "code",
   "execution_count": 184,
   "metadata": {},
   "outputs": [],
   "source": [
    "train_X, test_X, train_Y, test_Y = train_test_split(X, Y, test_size=0.2, random_state=10)\n",
    "\n",
    "train_X.shape, test_X.shape, train_Y.shape, test_Y.shape\n",
    "train_X = train_X.to('cuda')\n",
    "train_Y = train_Y.to('cuda')\n",
    "test_X = test_X.to('cuda')\n",
    "test_Y = test_Y.to('cuda')\n"
   ]
  },
  {
   "cell_type": "code",
   "execution_count": 185,
   "metadata": {},
   "outputs": [
    {
     "data": {
      "text/plain": [
       "(tensor([[-0.2830, -0.2815, -0.2823,  ...,  0.0641, -0.1482, -0.1358],\n",
       "         [-0.4550, -0.4553, -0.4558,  ..., -0.4872, -0.4617, -0.4487],\n",
       "         [ 0.0593,  0.0596,  0.0610,  ...,  1.5935,  1.2370,  1.3846],\n",
       "         ...,\n",
       "         [-0.2285, -0.2286, -0.2288,  ..., -0.4445, -0.4255, -0.4458],\n",
       "         [-0.4565, -0.4568, -0.4573,  ..., -0.4854, -0.4606, -0.4489],\n",
       "         [-0.2386, -0.2374, -0.2375,  ...,  1.3642,  1.2747,  1.1939]],\n",
       "        device='cuda:0'),\n",
       " tensor([[3.2100],\n",
       "         [3.4200],\n",
       "         [3.1000],\n",
       "         [3.4200],\n",
       "         [2.9100],\n",
       "         [3.1200],\n",
       "         [3.1100],\n",
       "         [2.9100],\n",
       "         [3.1600],\n",
       "         [2.8900],\n",
       "         [3.6000],\n",
       "         [3.1600],\n",
       "         [3.3000],\n",
       "         [3.3000],\n",
       "         [3.1100],\n",
       "         [3.4900],\n",
       "         [3.2000],\n",
       "         [3.1000],\n",
       "         [4.2400],\n",
       "         [3.1600],\n",
       "         [2.9600],\n",
       "         [3.0200],\n",
       "         [3.3000],\n",
       "         [2.7200],\n",
       "         [3.3900],\n",
       "         [3.0600],\n",
       "         [3.4500],\n",
       "         [3.2800],\n",
       "         [3.0700],\n",
       "         [3.3200],\n",
       "         [3.6000],\n",
       "         [3.1200],\n",
       "         [3.3000],\n",
       "         [3.1100],\n",
       "         [3.3900],\n",
       "         [3.0200],\n",
       "         [3.0000],\n",
       "         [3.1200],\n",
       "         [3.0000],\n",
       "         [3.7600]], device='cuda:0'))"
      ]
     },
     "execution_count": 185,
     "metadata": {},
     "output_type": "execute_result"
    }
   ],
   "source": [
    "train_X, train_Y"
   ]
  },
  {
   "cell_type": "code",
   "execution_count": 186,
   "metadata": {},
   "outputs": [],
   "source": [
    "model = SimpleMLP(train_X.shape[1], train_Y.shape[1]).to('cuda')\n",
    "optimizer = torch.optim.Adam(model.parameters(), lr=3e-4)\n",
    "losses = train(model, train_X, train_Y, optimizer, criterion, n_epochs=1000)"
   ]
  },
  {
   "cell_type": "code",
   "execution_count": 187,
   "metadata": {},
   "outputs": [
    {
     "data": {
      "text/plain": [
       "[<matplotlib.lines.Line2D at 0x7ff474419640>]"
      ]
     },
     "execution_count": 187,
     "metadata": {},
     "output_type": "execute_result"
    },
    {
     "data": {
      "image/png": "[encoded data removed]",
      "text/plain": [
       "<Figure size 432x288 with 1 Axes>"
      ]
     },
     "metadata": {
      "needs_background": "light"
     },
     "output_type": "display_data"
    }
   ],
   "source": [
    "plt.plot(losses)"
   ]
  },
  {
   "cell_type": "code",
   "execution_count": 188,
   "metadata": {},
   "outputs": [],
   "source": [
    "from sklearn.metrics import mean_squared_error, mean_absolute_percentage_error,mean_absolute_error\n",
    "from sklearn.ensemble import RandomForestRegressor"
   ]
  },
  {
   "cell_type": "code",
   "execution_count": 189,
   "metadata": {},
   "outputs": [
    {
     "name": "stdout",
     "output_type": "stream",
     "text": [
      "TRAIN: [1 2 3 4] TEST: [0]\n"
     ]
    },
    {
     "name": "stderr",
     "output_type": "stream",
     "text": [
      "/tmp/ipykernel_3783431/3273878974.py:12: DataConversionWarning: A column-vector y was passed when a 1d array was expected. Please change the shape of y to (n_samples,), for example using ravel().\n",
      "  rf.fit(train_X.cpu().numpy(), train_Y.cpu().numpy())\n"
     ]
    },
    {
     "name": "stdout",
     "output_type": "stream",
     "text": [
      "NN MSE: 6.91, RF MSE: 0.09, NN MAE: 2.63, RF MAE: 0.30, NN MAPE: 0.88, RF MAPE: 0.10\n",
      "-----------------------------------------\n",
      "TRAIN: [0 2 3 4] TEST: [1]\n"
     ]
    },
    {
     "name": "stderr",
     "output_type": "stream",
     "text": [
      "/tmp/ipykernel_3783431/3273878974.py:12: DataConversionWarning: A column-vector y was passed when a 1d array was expected. Please change the shape of y to (n_samples,), for example using ravel().\n",
      "  rf.fit(train_X.cpu().numpy(), train_Y.cpu().numpy())\n"
     ]
    },
    {
     "name": "stdout",
     "output_type": "stream",
     "text": [
      "NN MSE: 0.91, RF MSE: 0.38, NN MAE: 0.96, RF MAE: 0.61, NN MAPE: 0.27, RF MAPE: 0.17\n",
      "-----------------------------------------\n",
      "TRAIN: [0 1 3 4] TEST: [2]\n"
     ]
    },
    {
     "name": "stderr",
     "output_type": "stream",
     "text": [
      "/tmp/ipykernel_3783431/3273878974.py:12: DataConversionWarning: A column-vector y was passed when a 1d array was expected. Please change the shape of y to (n_samples,), for example using ravel().\n",
      "  rf.fit(train_X.cpu().numpy(), train_Y.cpu().numpy())\n"
     ]
    },
    {
     "name": "stdout",
     "output_type": "stream",
     "text": [
      "NN MSE: 0.06, RF MSE: 0.00, NN MAE: 0.24, RF MAE: 0.05, NN MAPE: 0.08, RF MAPE: 0.02\n",
      "-----------------------------------------\n",
      "TRAIN: [0 1 2 4] TEST: [3]\n"
     ]
    },
    {
     "name": "stderr",
     "output_type": "stream",
     "text": [
      "/tmp/ipykernel_3783431/3273878974.py:12: DataConversionWarning: A column-vector y was passed when a 1d array was expected. Please change the shape of y to (n_samples,), for example using ravel().\n",
      "  rf.fit(train_X.cpu().numpy(), train_Y.cpu().numpy())\n"
     ]
    },
    {
     "name": "stdout",
     "output_type": "stream",
     "text": [
      "NN MSE: 0.28, RF MSE: 0.04, NN MAE: 0.53, RF MAE: 0.20, NN MAPE: 0.18, RF MAPE: 0.07\n",
      "-----------------------------------------\n",
      "TRAIN: [0 1 2 3] TEST: [4]\n"
     ]
    },
    {
     "name": "stderr",
     "output_type": "stream",
     "text": [
      "/tmp/ipykernel_3783431/3273878974.py:12: DataConversionWarning: A column-vector y was passed when a 1d array was expected. Please change the shape of y to (n_samples,), for example using ravel().\n",
      "  rf.fit(train_X.cpu().numpy(), train_Y.cpu().numpy())\n"
     ]
    },
    {
     "name": "stdout",
     "output_type": "stream",
     "text": [
      "NN MSE: 3.19, RF MSE: 0.06, NN MAE: 1.79, RF MAE: 0.24, NN MAPE: 0.62, RF MAPE: 0.08\n",
      "-----------------------------------------\n"
     ]
    }
   ],
   "source": [
    "loo = LeaveOneOut()\n",
    "mses ={\"NN\": [], \"RF\": []}\n",
    "maes = {\"NN\": [], \"RF\": []}\n",
    "mapes = {\"NN\": [], \"RF\": []}\n",
    "preds  = {\"NN\": [], \"RF\": []}\n",
    "gts = [] \n",
    "for train_index, test_index in loo.split(X[:5]):\n",
    "    print(\"TRAIN:\", train_index, \"TEST:\", test_index)\n",
    "    train_X, test_X = X[train_index], X[test_index]\n",
    "    train_Y, test_Y = Y[train_index], Y[test_index]\n",
    "    rf = RandomForestRegressor(n_estimators=100, random_state=10)\n",
    "    rf.fit(train_X.cpu().numpy(), train_Y.cpu().numpy())\n",
    "    pred_rf = rf.predict(test_X.cpu().numpy())\n",
    "    gts.append(test_Y.cpu().detach().numpy().flatten()[0])\n",
    "    preds[\"RF\"].append(pred_rf.flatten()[0])\n",
    "    train_X = train_X.to('cuda')\n",
    "    train_Y = train_Y.to('cuda')\n",
    "    test_X = test_X.to('cuda')\n",
    "    test_Y = test_Y.to('cuda')\n",
    "    model = SimpleMLP(train_X.shape[1], train_Y.shape[1]).to('cuda')\n",
    "    optimizer = torch.optim.Adam(model.parameters(), lr=0.001)\n",
    "    losses = train(model, train_X, train_Y, optimizer, criterion, n_epochs=1000)\n",
    "    \n",
    "    predictions = predict(model, test_X)\n",
    "    preds[\"NN\"].append(predictions.cpu().detach().numpy().flatten()[0])\n",
    "    nn_mse_i = mean_squared_error(test_Y.cpu().detach().numpy(), predictions.cpu().detach().numpy())\n",
    "    nn_mae_i = mean_absolute_error(test_Y.cpu().detach().numpy(), predictions.cpu().detach().numpy())\n",
    "    nn_mape_i = mean_absolute_percentage_error(test_Y.cpu().detach().numpy(), predictions.cpu().detach().numpy())\n",
    "\n",
    "    rf_mse_i = mean_squared_error(test_Y.cpu().detach().numpy(), pred_rf)\n",
    "    rf_mae_i = mean_absolute_error(test_Y.cpu().detach().numpy(), pred_rf)\n",
    "    rf_mape_i = mean_absolute_percentage_error(test_Y.cpu().detach().numpy(), pred_rf)\n",
    "    mses[\"NN\"].append(nn_mse_i)\n",
    "    maes[\"NN\"].append(nn_mae_i)\n",
    "    mapes[\"NN\"].append(nn_mape_i)\n",
    "    mses[\"RF\"].append(rf_mse_i)\n",
    "    maes[\"RF\"].append(rf_mae_i)\n",
    "    mapes[\"RF\"].append(rf_mape_i)\n",
    "    # Print the results for current iteration in one line\n",
    "    print(\"NN MSE: {:.2f}, RF MSE: {:.2f}, NN MAE: {:.2f}, RF MAE: {:.2f}, NN MAPE: {:.2f}, RF MAPE: {:.2f}\".format(nn_mse_i, rf_mse_i, nn_mae_i, rf_mae_i, nn_mape_i, rf_mape_i))\n",
    "    print(\"-----------------------------------------\")"
   ]
  },
  {
   "cell_type": "code",
   "execution_count": 190,
   "metadata": {},
   "outputs": [
    {
     "data": {
      "text/html": [
       "<div>\n",
       "<style scoped>\n",
       "    .dataframe tbody tr th:only-of-type {\n",
       "        vertical-align: middle;\n",
       "    }\n",
       "\n",
       "    .dataframe tbody tr th {\n",
       "        vertical-align: top;\n",
       "    }\n",
       "\n",
       "    .dataframe thead th {\n",
       "        text-align: right;\n",
       "    }\n",
       "</style>\n",
       "<table border=\"1\" class=\"dataframe\">\n",
       "  <thead>\n",
       "    <tr style=\"text-align: right;\">\n",
       "      <th></th>\n",
       "      <th>NN</th>\n",
       "      <th>RF</th>\n",
       "    </tr>\n",
       "  </thead>\n",
       "  <tbody>\n",
       "    <tr>\n",
       "      <th>0</th>\n",
       "      <td>6.906291</td>\n",
       "      <td>0.090060</td>\n",
       "    </tr>\n",
       "    <tr>\n",
       "      <th>1</th>\n",
       "      <td>0.912278</td>\n",
       "      <td>0.377242</td>\n",
       "    </tr>\n",
       "    <tr>\n",
       "      <th>2</th>\n",
       "      <td>0.055769</td>\n",
       "      <td>0.002884</td>\n",
       "    </tr>\n",
       "    <tr>\n",
       "      <th>3</th>\n",
       "      <td>0.283887</td>\n",
       "      <td>0.038377</td>\n",
       "    </tr>\n",
       "    <tr>\n",
       "      <th>4</th>\n",
       "      <td>3.187432</td>\n",
       "      <td>0.058709</td>\n",
       "    </tr>\n",
       "  </tbody>\n",
       "</table>\n",
       "</div>"
      ],
      "text/plain": [
       "         NN        RF\n",
       "0  6.906291  0.090060\n",
       "1  0.912278  0.377242\n",
       "2  0.055769  0.002884\n",
       "3  0.283887  0.038377\n",
       "4  3.187432  0.058709"
      ]
     },
     "execution_count": 190,
     "metadata": {},
     "output_type": "execute_result"
    }
   ],
   "source": [
    "pd.DataFrame(mses)"
   ]
  },
  {
   "cell_type": "code",
   "execution_count": 132,
   "metadata": {},
   "outputs": [
    {
     "data": {
      "text/html": [
       "<div>\n",
       "<style scoped>\n",
       "    .dataframe tbody tr th:only-of-type {\n",
       "        vertical-align: middle;\n",
       "    }\n",
       "\n",
       "    .dataframe tbody tr th {\n",
       "        vertical-align: top;\n",
       "    }\n",
       "\n",
       "    .dataframe thead th {\n",
       "        text-align: right;\n",
       "    }\n",
       "</style>\n",
       "<table border=\"1\" class=\"dataframe\">\n",
       "  <thead>\n",
       "    <tr style=\"text-align: right;\">\n",
       "      <th></th>\n",
       "      <th>NN</th>\n",
       "      <th>RF</th>\n",
       "    </tr>\n",
       "  </thead>\n",
       "  <tbody>\n",
       "    <tr>\n",
       "      <th>0</th>\n",
       "      <td>6.964166</td>\n",
       "      <td>7.935486e-02</td>\n",
       "    </tr>\n",
       "    <tr>\n",
       "      <th>1</th>\n",
       "      <td>0.871902</td>\n",
       "      <td>3.798256e-01</td>\n",
       "    </tr>\n",
       "    <tr>\n",
       "      <th>2</th>\n",
       "      <td>0.031845</td>\n",
       "      <td>8.102388e-07</td>\n",
       "    </tr>\n",
       "    <tr>\n",
       "      <th>3</th>\n",
       "      <td>0.189651</td>\n",
       "      <td>2.676493e-02</td>\n",
       "    </tr>\n",
       "    <tr>\n",
       "      <th>4</th>\n",
       "      <td>2.418280</td>\n",
       "      <td>9.947708e-02</td>\n",
       "    </tr>\n",
       "  </tbody>\n",
       "</table>\n",
       "</div>"
      ],
      "text/plain": [
       "         NN            RF\n",
       "0  6.964166  7.935486e-02\n",
       "1  0.871902  3.798256e-01\n",
       "2  0.031845  8.102388e-07\n",
       "3  0.189651  2.676493e-02\n",
       "4  2.418280  9.947708e-02"
      ]
     },
     "execution_count": 132,
     "metadata": {},
     "output_type": "execute_result"
    }
   ],
   "source": [
    "pd.DataFrame(mses)"
   ]
  },
  {
   "cell_type": "code",
   "execution_count": 191,
   "metadata": {},
   "outputs": [
    {
     "data": {
      "text/html": [
       "<div>\n",
       "<style scoped>\n",
       "    .dataframe tbody tr th:only-of-type {\n",
       "        vertical-align: middle;\n",
       "    }\n",
       "\n",
       "    .dataframe tbody tr th {\n",
       "        vertical-align: top;\n",
       "    }\n",
       "\n",
       "    .dataframe thead th {\n",
       "        text-align: right;\n",
       "    }\n",
       "</style>\n",
       "<table border=\"1\" class=\"dataframe\">\n",
       "  <thead>\n",
       "    <tr style=\"text-align: right;\">\n",
       "      <th></th>\n",
       "      <th>NN</th>\n",
       "      <th>RF</th>\n",
       "    </tr>\n",
       "  </thead>\n",
       "  <tbody>\n",
       "    <tr>\n",
       "      <th>0</th>\n",
       "      <td>87.599412</td>\n",
       "      <td>10.003333</td>\n",
       "    </tr>\n",
       "    <tr>\n",
       "      <th>1</th>\n",
       "      <td>26.531463</td>\n",
       "      <td>17.061111</td>\n",
       "    </tr>\n",
       "    <tr>\n",
       "      <th>2</th>\n",
       "      <td>7.617901</td>\n",
       "      <td>1.732258</td>\n",
       "    </tr>\n",
       "    <tr>\n",
       "      <th>3</th>\n",
       "      <td>18.436356</td>\n",
       "      <td>6.778547</td>\n",
       "    </tr>\n",
       "    <tr>\n",
       "      <th>4</th>\n",
       "      <td>61.776406</td>\n",
       "      <td>8.384083</td>\n",
       "    </tr>\n",
       "  </tbody>\n",
       "</table>\n",
       "</div>"
      ],
      "text/plain": [
       "          NN         RF\n",
       "0  87.599412  10.003333\n",
       "1  26.531463  17.061111\n",
       "2   7.617901   1.732258\n",
       "3  18.436356   6.778547\n",
       "4  61.776406   8.384083"
      ]
     },
     "execution_count": 191,
     "metadata": {},
     "output_type": "execute_result"
    }
   ],
   "source": [
    "(pd.DataFrame(mapes)*100)"
   ]
  },
  {
   "cell_type": "code",
   "execution_count": 133,
   "metadata": {},
   "outputs": [
    {
     "data": {
      "text/html": [
       "<div>\n",
       "<style scoped>\n",
       "    .dataframe tbody tr th:only-of-type {\n",
       "        vertical-align: middle;\n",
       "    }\n",
       "\n",
       "    .dataframe tbody tr th {\n",
       "        vertical-align: top;\n",
       "    }\n",
       "\n",
       "    .dataframe thead th {\n",
       "        text-align: right;\n",
       "    }\n",
       "</style>\n",
       "<table border=\"1\" class=\"dataframe\">\n",
       "  <thead>\n",
       "    <tr style=\"text-align: right;\">\n",
       "      <th></th>\n",
       "      <th>NN</th>\n",
       "      <th>RF</th>\n",
       "    </tr>\n",
       "  </thead>\n",
       "  <tbody>\n",
       "    <tr>\n",
       "      <th>0</th>\n",
       "      <td>87.965683</td>\n",
       "      <td>9.389998</td>\n",
       "    </tr>\n",
       "    <tr>\n",
       "      <th>1</th>\n",
       "      <td>25.937691</td>\n",
       "      <td>17.119442</td>\n",
       "    </tr>\n",
       "    <tr>\n",
       "      <th>2</th>\n",
       "      <td>5.756532</td>\n",
       "      <td>0.029037</td>\n",
       "    </tr>\n",
       "    <tr>\n",
       "      <th>3</th>\n",
       "      <td>15.068854</td>\n",
       "      <td>5.660896</td>\n",
       "    </tr>\n",
       "    <tr>\n",
       "      <th>4</th>\n",
       "      <td>53.809063</td>\n",
       "      <td>10.913490</td>\n",
       "    </tr>\n",
       "  </tbody>\n",
       "</table>\n",
       "</div>"
      ],
      "text/plain": [
       "          NN         RF\n",
       "0  87.965683   9.389998\n",
       "1  25.937691  17.119442\n",
       "2   5.756532   0.029037\n",
       "3  15.068854   5.660896\n",
       "4  53.809063  10.913490"
      ]
     },
     "execution_count": 133,
     "metadata": {},
     "output_type": "execute_result"
    }
   ],
   "source": [
    "(pd.DataFrame(mapes)*100)"
   ]
  },
  {
   "cell_type": "code",
   "execution_count": 192,
   "metadata": {},
   "outputs": [
    {
     "data": {
      "text/html": [
       "<div>\n",
       "<style scoped>\n",
       "    .dataframe tbody tr th:only-of-type {\n",
       "        vertical-align: middle;\n",
       "    }\n",
       "\n",
       "    .dataframe tbody tr th {\n",
       "        vertical-align: top;\n",
       "    }\n",
       "\n",
       "    .dataframe thead th {\n",
       "        text-align: right;\n",
       "    }\n",
       "</style>\n",
       "<table border=\"1\" class=\"dataframe\">\n",
       "  <thead>\n",
       "    <tr style=\"text-align: right;\">\n",
       "      <th></th>\n",
       "      <th>NN</th>\n",
       "      <th>RF</th>\n",
       "    </tr>\n",
       "  </thead>\n",
       "  <tbody>\n",
       "    <tr>\n",
       "      <th>0</th>\n",
       "      <td>0.372018</td>\n",
       "      <td>3.3001</td>\n",
       "    </tr>\n",
       "    <tr>\n",
       "      <th>1</th>\n",
       "      <td>2.644867</td>\n",
       "      <td>2.9858</td>\n",
       "    </tr>\n",
       "    <tr>\n",
       "      <th>2</th>\n",
       "      <td>2.863845</td>\n",
       "      <td>3.0463</td>\n",
       "    </tr>\n",
       "    <tr>\n",
       "      <th>3</th>\n",
       "      <td>3.422811</td>\n",
       "      <td>3.0859</td>\n",
       "    </tr>\n",
       "    <tr>\n",
       "      <th>4</th>\n",
       "      <td>1.104662</td>\n",
       "      <td>3.1323</td>\n",
       "    </tr>\n",
       "  </tbody>\n",
       "</table>\n",
       "</div>"
      ],
      "text/plain": [
       "         NN      RF\n",
       "0  0.372018  3.3001\n",
       "1  2.644867  2.9858\n",
       "2  2.863845  3.0463\n",
       "3  3.422811  3.0859\n",
       "4  1.104662  3.1323"
      ]
     },
     "execution_count": 192,
     "metadata": {},
     "output_type": "execute_result"
    }
   ],
   "source": [
    "d = pd.DataFrame(preds)\n",
    "d"
   ]
  },
  {
   "cell_type": "code",
   "execution_count": 193,
   "metadata": {},
   "outputs": [
    {
     "data": {
      "text/html": [
       "<div>\n",
       "<style scoped>\n",
       "    .dataframe tbody tr th:only-of-type {\n",
       "        vertical-align: middle;\n",
       "    }\n",
       "\n",
       "    .dataframe tbody tr th {\n",
       "        vertical-align: top;\n",
       "    }\n",
       "\n",
       "    .dataframe thead th {\n",
       "        text-align: right;\n",
       "    }\n",
       "</style>\n",
       "<table border=\"1\" class=\"dataframe\">\n",
       "  <thead>\n",
       "    <tr style=\"text-align: right;\">\n",
       "      <th></th>\n",
       "      <th>NN</th>\n",
       "      <th>RF</th>\n",
       "      <th>gt</th>\n",
       "    </tr>\n",
       "  </thead>\n",
       "  <tbody>\n",
       "    <tr>\n",
       "      <th>0</th>\n",
       "      <td>0.372018</td>\n",
       "      <td>3.3001</td>\n",
       "      <td>3.00</td>\n",
       "    </tr>\n",
       "    <tr>\n",
       "      <th>1</th>\n",
       "      <td>2.644867</td>\n",
       "      <td>2.9858</td>\n",
       "      <td>3.60</td>\n",
       "    </tr>\n",
       "    <tr>\n",
       "      <th>2</th>\n",
       "      <td>2.863845</td>\n",
       "      <td>3.0463</td>\n",
       "      <td>3.10</td>\n",
       "    </tr>\n",
       "    <tr>\n",
       "      <th>3</th>\n",
       "      <td>3.422811</td>\n",
       "      <td>3.0859</td>\n",
       "      <td>2.89</td>\n",
       "    </tr>\n",
       "    <tr>\n",
       "      <th>4</th>\n",
       "      <td>1.104662</td>\n",
       "      <td>3.1323</td>\n",
       "      <td>2.89</td>\n",
       "    </tr>\n",
       "  </tbody>\n",
       "</table>\n",
       "</div>"
      ],
      "text/plain": [
       "         NN      RF    gt\n",
       "0  0.372018  3.3001  3.00\n",
       "1  2.644867  2.9858  3.60\n",
       "2  2.863845  3.0463  3.10\n",
       "3  3.422811  3.0859  2.89\n",
       "4  1.104662  3.1323  2.89"
      ]
     },
     "execution_count": 193,
     "metadata": {},
     "output_type": "execute_result"
    }
   ],
   "source": [
    "d[\"gt\"] = gts\n",
    "d"
   ]
  },
  {
   "cell_type": "code",
   "execution_count": null,
   "metadata": {},
   "outputs": [],
   "source": []
  }
 ],
 "metadata": {
  "kernelspec": {
   "display_name": "base",
   "language": "python",
   "name": "python3"
  },
  "language_info": {
   "codemirror_mode": {
    "name": "ipython",
    "version": 3
   },
   "file_extension": ".py",
   "mimetype": "text/x-python",
   "name": "python",
   "nbconvert_exporter": "python",
   "pygments_lexer": "ipython3",
   "version": "3.9.7"
  },
  "orig_nbformat": 4
 },
 "nbformat": 4,
 "nbformat_minor": 2
}
