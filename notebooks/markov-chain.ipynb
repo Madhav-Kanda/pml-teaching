{
 "cells": [
  {
   "cell_type": "code",
   "execution_count": 2,
   "metadata": {},
   "outputs": [],
   "source": [
    "import torch\n",
    "import torch.autograd.functional as F\n",
    "import torch.distributions as dist\n",
    "\n",
    "import numpy as np\n",
    "import matplotlib.pyplot as plt\n",
    "import pandas as pd\n",
    "%matplotlib inline\n",
    "\n",
    "# Retina display\n",
    "%config InlineBackend.figure_format = 'retina'"
   ]
  },
  {
   "cell_type": "code",
   "execution_count": 3,
   "metadata": {},
   "outputs": [],
   "source": [
    "from tueplots import bundles\n",
    "plt.rcParams.update(bundles.beamer_moml())\n",
    "#plt.rcParams.update(bundles.icml2022())\n",
    "\n",
    "\n",
    "# Also add despine to the bundle using rcParams\n",
    "plt.rcParams['axes.spines.right'] = False\n",
    "plt.rcParams['axes.spines.top'] = False\n",
    "\n",
    "# Increase font size to match Beamer template\n",
    "plt.rcParams['font.size'] = 16\n",
    "# Make background transparent\n",
    "plt.rcParams['figure.facecolor'] = 'none'\n"
   ]
  },
  {
   "cell_type": "markdown",
   "metadata": {},
   "source": [
    "### Parameters"
   ]
  },
  {
   "cell_type": "code",
   "execution_count": 4,
   "metadata": {},
   "outputs": [],
   "source": [
    "# Prior distribution\n",
    "P = torch.tensor([0.5, 0.5])\n",
    "\n",
    "# Transition matrix\n",
    "A = torch.tensor([[0.9, 0.1],\n",
    "                  [0.2, 0.8]])\n",
    "\n",
    "# States \n",
    "STATES = {0: 'Sunny', 1: 'Rainy'}"
   ]
  },
  {
   "cell_type": "markdown",
   "metadata": {},
   "source": [
    "### Sampling from discrete state Markov chain"
   ]
  },
  {
   "cell_type": "code",
   "execution_count": 5,
   "metadata": {},
   "outputs": [],
   "source": [
    "# Generate data from the Markov chain\n",
    "\n",
    "def generate_data(n_samples=10, seed=0):\n",
    "    torch.manual_seed(seed)\n",
    "    data = torch.zeros(n_samples, dtype=torch.long)\n",
    "    data[0] = dist.Categorical(P).sample()\n",
    "    for i in range(1, n_samples):\n",
    "        data[i] = dist.Categorical(A[data[i-1]]).sample()\n",
    "    return data\n",
    "\n",
    "def map_state(x_arr):\n",
    "    return [STATES[x.item()] for x in x_arr]"
   ]
  },
  {
   "cell_type": "code",
   "execution_count": 6,
   "metadata": {},
   "outputs": [
    {
     "data": {
      "text/plain": [
       "['Rainy',\n",
       " 'Rainy',\n",
       " 'Rainy',\n",
       " 'Rainy',\n",
       " 'Rainy',\n",
       " 'Sunny',\n",
       " 'Sunny',\n",
       " 'Sunny',\n",
       " 'Sunny',\n",
       " 'Sunny']"
      ]
     },
     "execution_count": 6,
     "metadata": {},
     "output_type": "execute_result"
    }
   ],
   "source": [
    "generate_data(10, 0)\n",
    "map_state(generate_data(10, 0))"
   ]
  },
  {
   "cell_type": "code",
   "execution_count": 7,
   "metadata": {},
   "outputs": [
    {
     "data": {
      "text/plain": [
       "['Sunny',\n",
       " 'Sunny',\n",
       " 'Sunny',\n",
       " 'Sunny',\n",
       " 'Rainy',\n",
       " 'Rainy',\n",
       " 'Rainy',\n",
       " 'Sunny',\n",
       " 'Sunny',\n",
       " 'Sunny']"
      ]
     },
     "execution_count": 7,
     "metadata": {},
     "output_type": "execute_result"
    }
   ],
   "source": [
    "map_state(generate_data(10, 1))"
   ]
  },
  {
   "cell_type": "markdown",
   "metadata": {},
   "source": [
    "### Stationary distribution"
   ]
  },
  {
   "cell_type": "code",
   "execution_count": 8,
   "metadata": {},
   "outputs": [],
   "source": [
    "PS = []\n",
    "PR = []"
   ]
  },
  {
   "cell_type": "code",
   "execution_count": 9,
   "metadata": {},
   "outputs": [
    {
     "data": {
      "text/plain": [
       "[0.5]"
      ]
     },
     "execution_count": 9,
     "metadata": {},
     "output_type": "execute_result"
    }
   ],
   "source": [
    "# P(Sunny) at t=0\n",
    "PS.append(P[0].item())\n",
    "PS"
   ]
  },
  {
   "cell_type": "code",
   "execution_count": 10,
   "metadata": {},
   "outputs": [
    {
     "data": {
      "text/plain": [
       "[0.5]"
      ]
     },
     "execution_count": 10,
     "metadata": {},
     "output_type": "execute_result"
    }
   ],
   "source": [
    "# P (Rainy) at t=0\n",
    "PR.append(P[1].item())\n",
    "PR"
   ]
  },
  {
   "cell_type": "code",
   "execution_count": 11,
   "metadata": {},
   "outputs": [],
   "source": [
    "def PS_t(t):\n",
    "    return PS[t-1] * A[0, 0].item() + PR[t-1] * A[1, 0].item()\n",
    "\n",
    "def PR_t(t):\n",
    "    return PS[t-1] * A[0, 1].item() + PR[t-1] * A[1, 1].item()\n"
   ]
  },
  {
   "cell_type": "code",
   "execution_count": 12,
   "metadata": {},
   "outputs": [],
   "source": [
    "for t in range(1, 20):\n",
    "    PS.append(PS_t(t))\n",
    "    PR.append(PR_t(t))\n"
   ]
  },
  {
   "cell_type": "code",
   "execution_count": 13,
   "metadata": {},
   "outputs": [
    {
     "data": {
      "text/plain": [
       "([0.5,\n",
       "  0.5499999895691872,\n",
       "  0.5849999801814558,\n",
       "  0.609499971553684,\n",
       "  0.6266499634787454,\n",
       "  0.6386549558053933,\n",
       "  0.647058448423374,\n",
       "  0.6529408912524431,\n",
       "  0.657058599234283,\n",
       "  0.6599409928265687,\n",
       "  0.6619586663486209,\n",
       "  0.6633710358232277,\n",
       "  0.6643596924658253,\n",
       "  0.6650517501268584,\n",
       "  0.6655361885013855,\n",
       "  0.6658752933757711,\n",
       "  0.6661126648003464,\n",
       "  0.6662788228102565,\n",
       "  0.6663951314300427,\n",
       "  0.6664765454768411],\n",
       " [0.5,\n",
       "  0.45000000670552254,\n",
       "  0.4150000105053187,\n",
       "  0.39050001224130404,\n",
       "  0.37335001251176025,\n",
       "  0.36134501174174294,\n",
       "  0.352941510233172,\n",
       "  0.34705905820045785,\n",
       "  0.3429413407958347,\n",
       "  0.34005893762736905,\n",
       "  0.33804125442175925,\n",
       "  0.33662887518843054,\n",
       "  0.33564020873449596,\n",
       "  0.3349481412252955,\n",
       "  0.33446369297681955,\n",
       "  0.33412457821043834,\n",
       "  0.33388719688123464,\n",
       "  0.3337210289578531,\n",
       "  0.33360471041840567,\n",
       "  0.333523286447613])"
      ]
     },
     "execution_count": 13,
     "metadata": {},
     "output_type": "execute_result"
    }
   ],
   "source": [
    "PS, PR"
   ]
  },
  {
   "cell_type": "code",
   "execution_count": 14,
   "metadata": {},
   "outputs": [
    {
     "data": {
      "text/plain": [
       "<matplotlib.legend.Legend at 0x7f1af7260910>"
      ]
     },
     "execution_count": 14,
     "metadata": {},
     "output_type": "execute_result"
    },
    {
     "data": {
      "image/png": "[encoded data removed]",
      "text/plain": [
       "<Figure size 396.85x178.583 with 1 Axes>"
      ]
     },
     "metadata": {
      "image/png": {
       "height": 174,
       "width": 393
      },
      "needs_background": "light"
     },
     "output_type": "display_data"
    }
   ],
   "source": [
    "plt.plot(PS, label='P(Sunny)')\n",
    "plt.plot(PR, label='P(Rainy)')\n",
    "plt.xlabel('Time')\n",
    "plt.ylabel('Probability')\n",
    "plt.legend()"
   ]
  },
  {
   "cell_type": "code",
   "execution_count": 15,
   "metadata": {},
   "outputs": [
    {
     "data": {
      "text/plain": [
       "(tensor([[0.8300, 0.1700],\n",
       "         [0.3400, 0.6600]]),\n",
       " tensor([[0.8300, 0.1700],\n",
       "         [0.3400, 0.6600]]))"
      ]
     },
     "execution_count": 15,
     "metadata": {},
     "output_type": "execute_result"
    }
   ],
   "source": [
    "A@A, torch.matrix_power(A, 2)"
   ]
  },
  {
   "cell_type": "markdown",
   "metadata": {},
   "source": [
    "#### Vectorised version"
   ]
  },
  {
   "cell_type": "code",
   "execution_count": 16,
   "metadata": {},
   "outputs": [
    {
     "data": {
      "text/plain": [
       "tensor([0.5000, 0.5000])"
      ]
     },
     "execution_count": 16,
     "metadata": {},
     "output_type": "execute_result"
    }
   ],
   "source": [
    "# Distribution of states at t = 0\n",
    "P"
   ]
  },
  {
   "cell_type": "code",
   "execution_count": 17,
   "metadata": {},
   "outputs": [
    {
     "name": "stdout",
     "output_type": "stream",
     "text": [
      "----------------------------------------\n",
      "P(Sunny) at t = 1\n",
      "tensor(0.5500)\n",
      "----------------------------------------\n",
      "P(Rain) at t = 1\n",
      "tensor(0.4500)\n",
      "----------------------------------------\n",
      "Distribution of states at t = 1\n",
      "tensor([0.5500, 0.4500])\n"
     ]
    }
   ],
   "source": [
    "# P(Sunny) at t = 1\n",
    "print(\"--\"*20)\n",
    "print(\"P(Sunny) at t = 1\")\n",
    "print(P[0] * A[0, 0] + P[1] * A[1, 0])\n",
    "\n",
    "# P(Rainy) at t = 1\n",
    "print(\"--\"*20)\n",
    "print(\"P(Rain) at t = 1\")\n",
    "print(P[0] * A[0, 1] + P[1] * A[1, 1])\n",
    "\n",
    "# Distribution of states at t = 1\n",
    "print(\"--\"*20)\n",
    "print(\"Distribution of states at t = 1\")\n",
    "print(P@A)"
   ]
  },
  {
   "cell_type": "code",
   "execution_count": 18,
   "metadata": {},
   "outputs": [
    {
     "name": "stdout",
     "output_type": "stream",
     "text": [
      "----------------------------------------\n",
      "Distribution of states at t = 2\n",
      "tensor([0.5850, 0.4150])\n",
      "----------------------------------------\n",
      "Distribution of states at t = 2\n",
      "tensor([0.5850, 0.4150])\n"
     ]
    }
   ],
   "source": [
    "# Distribution of states at t = 2\n",
    "print(\"--\"*20)\n",
    "print(\"Distribution of states at t = 2\")\n",
    "print(P@A@A)\n",
    "\n",
    "# Using torch.matrix_power\n",
    "print(\"--\"*20)\n",
    "print(\"Distribution of states at t = 2\")\n",
    "print(P@torch.matrix_power(A, 2))"
   ]
  },
  {
   "cell_type": "code",
   "execution_count": 19,
   "metadata": {},
   "outputs": [
    {
     "data": {
      "text/plain": [
       "(tensor([0.6667, 0.3333]), tensor([0.6667, 0.3333]))"
      ]
     },
     "execution_count": 19,
     "metadata": {},
     "output_type": "execute_result"
    }
   ],
   "source": [
    "# convergence\n",
    "P@torch.matrix_power(A, 100), P@torch.matrix_power(A, 99)"
   ]
  },
  {
   "cell_type": "code",
   "execution_count": 20,
   "metadata": {},
   "outputs": [
    {
     "data": {
      "text/plain": [
       "[0.5,\n",
       " 0.5499999895691872,\n",
       " 0.5849999801814558,\n",
       " 0.609499971553684,\n",
       " 0.6266499634787454,\n",
       " 0.6386549558053933,\n",
       " 0.647058448423374,\n",
       " 0.6529408912524431,\n",
       " 0.657058599234283,\n",
       " 0.6599409928265687,\n",
       " 0.6619586663486209,\n",
       " 0.6633710358232277,\n",
       " 0.6643596924658253,\n",
       " 0.6650517501268584,\n",
       " 0.6655361885013855,\n",
       " 0.6658752933757711,\n",
       " 0.6661126648003464,\n",
       " 0.6662788228102565,\n",
       " 0.6663951314300427,\n",
       " 0.6664765454768411]"
      ]
     },
     "execution_count": 20,
     "metadata": {},
     "output_type": "execute_result"
    }
   ],
   "source": [
    "PS"
   ]
  },
  {
   "cell_type": "code",
   "execution_count": 25,
   "metadata": {},
   "outputs": [
    {
     "data": {
      "text/plain": [
       "(tensor([0.6507, 0.3493]), tensor([0.6733, 0.3267]), tensor([0.6761, 0.3239]))"
      ]
     },
     "execution_count": 25,
     "metadata": {},
     "output_type": "execute_result"
    }
   ],
   "source": [
    "### What if we started with different initial distribution?\n",
    "\n",
    "P2 = torch.tensor([0.1, 0.9])\n",
    "P3 = torch.tensor([0.9, 0.1])\n",
    "P4 = torch.tensor([0.999999, 0.000001])\n",
    "\n",
    "P2@torch.matrix_power(A, 100), P3@torch.matrix_power(A, 100), P4@torch.matrix_power(A, 100)"
   ]
  },
  {
   "cell_type": "code",
   "execution_count": 26,
   "metadata": {},
   "outputs": [
    {
     "name": "stdout",
     "output_type": "stream",
     "text": [
      "Converged at iteration 31\n"
     ]
    }
   ],
   "source": [
    "### Checking for convergence of Markov chain using iterative method\n",
    "\n",
    "eps = 1e-6\n",
    "PS = P\n",
    "for i in range(100):\n",
    "    PS_new = PS@A\n",
    "    if torch.all(torch.abs(PS_new - PS) < eps):\n",
    "        print(\"Converged at iteration\", i)\n",
    "        break\n",
    "    PS = PS_new"
   ]
  },
  {
   "cell_type": "code",
   "execution_count": 28,
   "metadata": {},
   "outputs": [],
   "source": [
    "### Checking for convergence\n",
    "\n",
    "def check_convergence(P, A, iter=100, eps=1e-6):\n",
    "    for i in range(iter):\n",
    "        P_new = P@A\n",
    "        if torch.all(torch.abs(P_new - P) < eps):\n",
    "            print(\"Converged at iteration\", i)\n",
    "            break\n",
    "        P = P_new\n",
    "    return P"
   ]
  },
  {
   "cell_type": "code",
   "execution_count": 29,
   "metadata": {},
   "outputs": [
    {
     "name": "stdout",
     "output_type": "stream",
     "text": [
      "Converged at iteration 31\n"
     ]
    },
    {
     "data": {
      "text/plain": [
       "tensor([0.6667, 0.3333])"
      ]
     },
     "execution_count": 29,
     "metadata": {},
     "output_type": "execute_result"
    }
   ],
   "source": [
    "check_convergence(P, A)"
   ]
  },
  {
   "cell_type": "code",
   "execution_count": 30,
   "metadata": {},
   "outputs": [
    {
     "name": "stdout",
     "output_type": "stream",
     "text": [
      "Converged at iteration 34\n"
     ]
    },
    {
     "data": {
      "text/plain": [
       "tensor([0.6667, 0.3333])"
      ]
     },
     "execution_count": 30,
     "metadata": {},
     "output_type": "execute_result"
    }
   ],
   "source": [
    "check_convergence(P2, A)"
   ]
  },
  {
   "cell_type": "code",
   "execution_count": 31,
   "metadata": {},
   "outputs": [
    {
     "name": "stdout",
     "output_type": "stream",
     "text": [
      "Converged at iteration 32\n"
     ]
    },
    {
     "data": {
      "text/plain": [
       "tensor([0.6667, 0.3333])"
      ]
     },
     "execution_count": 31,
     "metadata": {},
     "output_type": "execute_result"
    }
   ],
   "source": [
    "check_convergence(P3, A)"
   ]
  },
  {
   "cell_type": "code",
   "execution_count": 32,
   "metadata": {},
   "outputs": [
    {
     "name": "stdout",
     "output_type": "stream",
     "text": [
      "Converged at iteration 33\n"
     ]
    },
    {
     "data": {
      "text/plain": [
       "tensor([0.6667, 0.3333])"
      ]
     },
     "execution_count": 32,
     "metadata": {},
     "output_type": "execute_result"
    }
   ],
   "source": [
    "check_convergence(P4, A)"
   ]
  },
  {
   "cell_type": "markdown",
   "metadata": {},
   "source": [
    "### Homogeneous Markov chain\n",
    "\n",
    "The transition matrix is the same for all time steps.\n"
   ]
  },
  {
   "cell_type": "markdown",
   "metadata": {},
   "source": [
    "### Irreducible Markov chain\n",
    "\n",
    "A Markov chain is irreducible if it is possible to get to any state from any state."
   ]
  },
  {
   "cell_type": "markdown",
   "metadata": {},
   "source": [
    "### Aperiodic Markov chain\n",
    "\n",
    "A Markov chain is aperiodic if there are no cycles in the state transition graph.\n"
   ]
  },
  {
   "cell_type": "code",
   "execution_count": null,
   "metadata": {},
   "outputs": [],
   "source": [
    "### Markov chain with aperiodic transition matrix\n",
    "\n",
    "A = torch.tensor([[0.9, 0.1],\n",
    "                    [0.2, 0.8]])\n",
    "\n",
    "\n",
    "\n",
    "\n"
   ]
  },
  {
   "cell_type": "code",
   "execution_count": null,
   "metadata": {},
   "outputs": [],
   "source": [
    "### Continuous space Markov chain\n",
    "\n",
    "def transition(a, b):\n",
    "    return dist.Normal(a, 0.1).log_prob(b).exp()\n",
    "\n",
    "\n"
   ]
  }
 ],
 "metadata": {
  "kernelspec": {
   "display_name": "base",
   "language": "python",
   "name": "python3"
  },
  "language_info": {
   "codemirror_mode": {
    "name": "ipython",
    "version": 3
   },
   "file_extension": ".py",
   "mimetype": "text/x-python",
   "name": "python",
   "nbconvert_exporter": "python",
   "pygments_lexer": "ipython3",
   "version": "3.9.7"
  },
  "orig_nbformat": 4
 },
 "nbformat": 4,
 "nbformat_minor": 2
}
