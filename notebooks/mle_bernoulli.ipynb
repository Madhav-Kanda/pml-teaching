{
 "cells": [
  {
   "cell_type": "code",
   "execution_count": 44,
   "metadata": {},
   "outputs": [],
   "source": [
    "import torch\n",
    "import numpy as np\n",
    "import matplotlib.pyplot as plt\n",
    "import pandas as pd\n",
    "import matplotlib.pyplot as plt\n",
    "%matplotlib inline\n",
    "# Retina display\n",
    "%config InlineBackend.figure_format = 'retina'\n",
    "import warnings\n",
    "warnings.filterwarnings('ignore')"
   ]
  },
  {
   "cell_type": "code",
   "execution_count": 45,
   "metadata": {},
   "outputs": [],
   "source": [
    "from tueplots import bundles\n",
    "plt.rcParams.update(bundles.beamer_moml())\n",
    "\n",
    "\n",
    "# Also add despine to the bundle using rcParams\n",
    "plt.rcParams['axes.spines.right'] = False\n",
    "plt.rcParams['axes.spines.top'] = False\n",
    "\n",
    "# Increase font size to match Beamer template\n",
    "plt.rcParams['font.size'] = 16\n",
    "# Make background transparent\n",
    "plt.rcParams['figure.facecolor'] = 'none'"
   ]
  },
  {
   "cell_type": "code",
   "execution_count": 46,
   "metadata": {},
   "outputs": [],
   "source": [
    "import torch.distributions as dist"
   ]
  },
  {
   "cell_type": "code",
   "execution_count": 47,
   "metadata": {},
   "outputs": [],
   "source": [
    "theta = 0.9"
   ]
  },
  {
   "cell_type": "code",
   "execution_count": 48,
   "metadata": {},
   "outputs": [],
   "source": [
    "def prob(theta, data):\n",
    "    dist2 = dist.Bernoulli(probs=theta)\n",
    "    prob = np.exp(1)\n",
    "    for i in range(len(data)):\n",
    "        prob *= dist2.log_prob(data[i]).exp()\n",
    "    return prob"
   ]
  },
  {
   "cell_type": "code",
   "execution_count": 49,
   "metadata": {},
   "outputs": [],
   "source": [
    "probs = []\n",
    "ber = dist.Bernoulli(probs=theta)\n",
    "data = ber.sample((10,))"
   ]
  },
  {
   "cell_type": "code",
   "execution_count": 50,
   "metadata": {},
   "outputs": [],
   "source": [
    "thetas = np.linspace(0.01, 0.99, 100)\n",
    "for i in range(100):\n",
    "    ber = dist.Bernoulli(torch.tensor([theta]))\n",
    "    probs.append(prob(theta=thetas[i], data=data))"
   ]
  },
  {
   "cell_type": "code",
   "execution_count": 51,
   "metadata": {},
   "outputs": [],
   "source": [
    "probs = torch.tensor(probs)"
   ]
  },
  {
   "cell_type": "code",
   "execution_count": 52,
   "metadata": {},
   "outputs": [
    {
     "data": {
      "text/plain": [
       "Text(0.5, 1.0, 'Likelihood function for Bernoulli distribution')"
      ]
     },
     "execution_count": 52,
     "metadata": {},
     "output_type": "execute_result"
    },
    {
     "name": "stderr",
     "output_type": "stream",
     "text": [
      "findfont: Generic family 'sans-serif' not found because none of the following families were found: Roboto Condensed\n",
      "findfont: Generic family 'sans-serif' not found because none of the following families were found: Roboto Condensed\n",
      "findfont: Generic family 'sans-serif' not found because none of the following families were found: Roboto Condensed\n",
      "findfont: Generic family 'sans-serif' not found because none of the following families were found: Roboto Condensed\n"
     ]
    },
    {
     "name": "stderr",
     "output_type": "stream",
     "text": [
      "findfont: Generic family 'sans-serif' not found because none of the following families were found: Roboto Condensed\n",
      "findfont: Generic family 'sans-serif' not found because none of the following families were found: Roboto Condensed\n",
      "findfont: Generic family 'sans-serif' not found because none of the following families were found: Roboto Condensed\n",
      "findfont: Generic family 'sans-serif' not found because none of the following families were found: Roboto Condensed\n",
      "findfont: Generic family 'sans-serif' not found because none of the following families were found: Roboto Condensed\n",
      "findfont: Generic family 'sans-serif' not found because none of the following families were found: Roboto Condensed\n",
      "findfont: Generic family 'sans-serif' not found because none of the following families were found: Roboto Condensed\n",
      "findfont: Generic family 'sans-serif' not found because none of the following families were found: Roboto Condensed\n",
      "findfont: Generic family 'sans-serif' not found because none of the following families were found: Roboto Condensed\n",
      "findfont: Generic family 'sans-serif' not found because none of the following families were found: Roboto Condensed\n",
      "findfont: Generic family 'sans-serif' not found because none of the following families were found: Roboto Condensed\n",
      "findfont: Generic family 'sans-serif' not found because none of the following families were found: Roboto Condensed\n",
      "findfont: Generic family 'sans-serif' not found because none of the following families were found: Roboto Condensed\n",
      "findfont: Generic family 'sans-serif' not found because none of the following families were found: Roboto Condensed\n",
      "findfont: Generic family 'sans-serif' not found because none of the following families were found: Roboto Condensed\n",
      "findfont: Generic family 'sans-serif' not found because none of the following families were found: Roboto Condensed\n",
      "findfont: Generic family 'sans-serif' not found because none of the following families were found: Roboto Condensed\n",
      "findfont: Generic family 'sans-serif' not found because none of the following families were found: Roboto Condensed\n",
      "findfont: Generic family 'sans-serif' not found because none of the following families were found: Roboto Condensed\n",
      "findfont: Generic family 'sans-serif' not found because none of the following families were found: Roboto Condensed\n",
      "findfont: Generic family 'sans-serif' not found because none of the following families were found: Roboto Condensed\n",
      "findfont: Generic family 'sans-serif' not found because none of the following families were found: Roboto Condensed\n",
      "findfont: Generic family 'sans-serif' not found because none of the following families were found: Roboto Condensed\n",
      "findfont: Generic family 'sans-serif' not found because none of the following families were found: Roboto Condensed\n",
      "findfont: Generic family 'sans-serif' not found because none of the following families were found: Roboto Condensed\n",
      "findfont: Generic family 'sans-serif' not found because none of the following families were found: Roboto Condensed\n",
      "findfont: Generic family 'sans-serif' not found because none of the following families were found: Roboto Condensed\n",
      "findfont: Generic family 'sans-serif' not found because none of the following families were found: Roboto Condensed\n",
      "findfont: Generic family 'sans-serif' not found because none of the following families were found: Roboto Condensed\n",
      "findfont: Generic family 'sans-serif' not found because none of the following families were found: Roboto Condensed\n",
      "findfont: Generic family 'sans-serif' not found because none of the following families were found: Roboto Condensed\n",
      "findfont: Generic family 'sans-serif' not found because none of the following families were found: Roboto Condensed\n",
      "findfont: Generic family 'sans-serif' not found because none of the following families were found: Roboto Condensed\n",
      "findfont: Generic family 'sans-serif' not found because none of the following families were found: Roboto Condensed\n",
      "findfont: Generic family 'sans-serif' not found because none of the following families were found: Roboto Condensed\n",
      "findfont: Generic family 'sans-serif' not found because none of the following families were found: Roboto Condensed\n",
      "findfont: Generic family 'sans-serif' not found because none of the following families were found: Roboto Condensed\n",
      "findfont: Generic family 'sans-serif' not found because none of the following families were found: Roboto Condensed\n",
      "findfont: Generic family 'sans-serif' not found because none of the following families were found: Roboto Condensed\n",
      "findfont: Generic family 'sans-serif' not found because none of the following families were found: Roboto Condensed\n",
      "findfont: Generic family 'sans-serif' not found because none of the following families were found: Roboto Condensed\n",
      "findfont: Generic family 'sans-serif' not found because none of the following families were found: Roboto Condensed\n",
      "findfont: Generic family 'sans-serif' not found because none of the following families were found: Roboto Condensed\n",
      "findfont: Generic family 'sans-serif' not found because none of the following families were found: Roboto Condensed\n",
      "findfont: Generic family 'sans-serif' not found because none of the following families were found: Roboto Condensed\n",
      "findfont: Generic family 'sans-serif' not found because none of the following families were found: Roboto Condensed\n",
      "findfont: Generic family 'sans-serif' not found because none of the following families were found: Roboto Condensed\n",
      "findfont: Generic family 'sans-serif' not found because none of the following families were found: Roboto Condensed\n",
      "findfont: Generic family 'sans-serif' not found because none of the following families were found: Roboto Condensed\n",
      "findfont: Generic family 'sans-serif' not found because none of the following families were found: Roboto Condensed\n",
      "findfont: Generic family 'sans-serif' not found because none of the following families were found: Roboto Condensed\n",
      "findfont: Generic family 'sans-serif' not found because none of the following families were found: Roboto Condensed\n",
      "findfont: Generic family 'sans-serif' not found because none of the following families were found: Roboto Condensed\n",
      "findfont: Generic family 'sans-serif' not found because none of the following families were found: Roboto Condensed\n",
      "findfont: Generic family 'sans-serif' not found because none of the following families were found: Roboto Condensed\n",
      "findfont: Generic family 'sans-serif' not found because none of the following families were found: Roboto Condensed\n",
      "findfont: Generic family 'sans-serif' not found because none of the following families were found: Roboto Condensed\n",
      "findfont: Generic family 'sans-serif' not found because none of the following families were found: Roboto Condensed\n",
      "findfont: Generic family 'sans-serif' not found because none of the following families were found: Roboto Condensed\n",
      "findfont: Generic family 'sans-serif' not found because none of the following families were found: Roboto Condensed\n",
      "findfont: Generic family 'sans-serif' not found because none of the following families were found: Roboto Condensed\n"
     ]
    },
    {
     "data": {
      "image/png": "[encoded data removed]",
      "text/plain": [
       "<Figure size 551.181x248.032 with 1 Axes>"
      ]
     },
     "metadata": {
      "image/png": {
       "height": 242,
       "width": 545
      },
      "needs_background": "light"
     },
     "output_type": "display_data"
    }
   ],
   "source": [
    "plt.plot(thetas, probs)\n",
    "plt.xlabel(r'$\\theta$')\n",
    "plt.ylabel(r'$p(x|\\theta)$')\n",
    "plt.title(r'Likelihood function for Bernoulli distribution')\n",
    "# plt.savefig('D:/IITGN/Sem-7/pml/pml-teaching/figures/mle/bernoulli_likelihood_2.pdf')"
   ]
  },
  {
   "cell_type": "code",
   "execution_count": 53,
   "metadata": {},
   "outputs": [],
   "source": [
    "from ipywidgets import interact"
   ]
  },
  {
   "cell_type": "code",
   "execution_count": 57,
   "metadata": {},
   "outputs": [
    {
     "data": {
      "application/vnd.jupyter.widget-view+json": {
       "model_id": "c194eb134f8342e4873a64cc452f1c89",
       "version_major": 2,
       "version_minor": 0
      },
      "text/plain": [
       "interactive(children=(IntSlider(value=5, description='seed', max=10, min=1), Output()), _dom_classes=('widget-…"
      ]
     },
     "metadata": {},
     "output_type": "display_data"
    }
   ],
   "source": [
    "@interact(seed=(1, 10))\n",
    "def plot_likelihood(seed):\n",
    "    ber = dist.Bernoulli(probs=0.3)\n",
    "    data = ber.sample(sample_shape=(10,))\n",
    "    thetas = np.linspace(0.01, 0.99, 100)\n",
    "    probs = []\n",
    "    for i in range(100):\n",
    "        ber = dist.Bernoulli(torch.tensor([theta]))\n",
    "        probs.append(prob(theta=thetas[i], data=data))\n",
    "    probs = torch.tensor(probs)\n",
    "    plt.plot(thetas, probs)\n",
    "    plt.xticks(np.linspace(0, 1, 11))\n",
    "    plt.xlabel(r\"Probability of head: $\\theta$\")\n",
    "    plt.ylabel(r\"likelihood: $p(D|\\theta)$\")\n",
    "    plt.title(f\"Data ={data}\")\n",
    "    plt.grid(True)"
   ]
  },
  {
   "cell_type": "code",
   "execution_count": null,
   "metadata": {},
   "outputs": [],
   "source": []
  }
 ],
 "metadata": {
  "kernelspec": {
   "display_name": "Python 3",
   "language": "python",
   "name": "python3"
  },
  "language_info": {
   "codemirror_mode": {
    "name": "ipython",
    "version": 3
   },
   "file_extension": ".py",
   "mimetype": "text/x-python",
   "name": "python",
   "nbconvert_exporter": "python",
   "pygments_lexer": "ipython3",
   "version": "3.10.11"
  },
  "orig_nbformat": 4
 },
 "nbformat": 4,
 "nbformat_minor": 2
}
