{
  "cells": [
    {
      "cell_type": "code",
      "execution_count": 1,
      "metadata": {},
      "outputs": [],
      "source": [
        "from tueplots import bundles\n"
      ]
    },
    {
      "cell_type": "markdown",
      "metadata": {
        "id": "oD62LXgfFeIN"
      },
      "source": [
        "# Linear Regression Tutorial"
      ]
    },
    {
      "cell_type": "code",
      "execution_count": 2,
      "metadata": {
        "id": "yflqey9XFeIR"
      },
      "outputs": [],
      "source": [
        "import numpy as np\n",
        "import scipy.linalg\n",
        "import matplotlib.pyplot as plt\n",
        "%matplotlib inline\n",
        "plt.rcParams.update(bundles.icml2022())"
      ]
    },
    {
      "cell_type": "markdown",
      "metadata": {
        "id": "pLPAkjD4FeIT"
      },
      "source": [
        "## 1. Maximum Likelihood\n"
      ]
    },
    {
      "cell_type": "markdown",
      "metadata": {
        "id": "x3bPl0SlFeIT"
      },
      "source": [
        "Let us compute the maximum likelihood estimate for a given training set"
      ]
    },
    {
      "cell_type": "code",
      "execution_count": 3,
      "metadata": {
        "id": "EHmcnYcHFeIU"
      },
      "outputs": [],
      "source": [
        "## EDIT THIS FUNCTION\n",
        "def max_lik_estimate(X, y):\n",
        "\n",
        "    # X: N x D matrix of training inputs\n",
        "    # y: N x 1 vector of training targets/observations\n",
        "    # returns: maximum likelihood parameters (D x 1)\n",
        "\n",
        "    N, D = X.shape\n",
        "    theta_ml = np.linalg.solve(X.T @ X, X.T @ y) ## <-- SOLUTION\n",
        "    return theta_ml"
      ]
    },
    {
      "cell_type": "markdown",
      "metadata": {
        "id": "18ypMVncFeIU"
      },
      "source": [
        "Now, make a prediction using the maximum likelihood estimate that we just found"
      ]
    },
    {
      "cell_type": "code",
      "execution_count": 4,
      "metadata": {
        "id": "FF20Sy9gFeIV"
      },
      "outputs": [],
      "source": [
        "## EDIT THIS FUNCTION\n",
        "def predict_with_estimate(Xtest, theta):\n",
        "\n",
        "    # Xtest: K x D matrix of test inputs\n",
        "    # theta: D x 1 vector of parameters\n",
        "    # returns: prediction of f(Xtest); K x 1 vector\n",
        "\n",
        "    prediction = Xtest @ theta ## <-- SOLUTION\n",
        "\n",
        "    return prediction"
      ]
    },
    {
      "cell_type": "code",
      "execution_count": 5,
      "metadata": {
        "id": "X271KW3OFeIY"
      },
      "outputs": [],
      "source": [
        "## EDIT THIS FUNCTION\n",
        "def poly_features(X, K):\n",
        "\n",
        "    # X: inputs of size N x 1\n",
        "    # K: degree of the polynomial\n",
        "    # computes the feature matrix Phi (N x (K+1))\n",
        "\n",
        "    X = X.flatten()\n",
        "    N = X.shape[0]\n",
        "\n",
        "    #initialize Phi\n",
        "    Phi = np.zeros((N, K+1))\n",
        "\n",
        "    # Compute the feature matrix in stages\n",
        "    for k in range(K+1):\n",
        "        Phi[:,k] = X**k ## <-- SOLUTION\n",
        "    return Phi"
      ]
    },
    {
      "cell_type": "code",
      "execution_count": 6,
      "metadata": {
        "id": "HC61s93vFeIY"
      },
      "outputs": [],
      "source": [
        "## EDIT THIS FUNCTION\n",
        "def nonlinear_features_maximum_likelihood(Phi, y):\n",
        "    # Phi: features matrix for training inputs. Size of N x D\n",
        "    # y: training targets. Size of N by 1\n",
        "    # returns: maximum likelihood estimator theta_ml. Size of D x 1\n",
        "\n",
        "    kappa = 1e-08 # 'jitter' term; good for numerical stability\n",
        "\n",
        "    D = Phi.shape[1]\n",
        "\n",
        "    # maximum likelihood estimate\n",
        "    Pt = Phi.T @ y # Phi^T*y\n",
        "    PP = Phi.T @ Phi + kappa*np.eye(D) # Phi^T*Phi + kappa*I\n",
        "\n",
        "    # maximum likelihood estimate\n",
        "    C = scipy.linalg.cho_factor(PP)\n",
        "    theta_ml = scipy.linalg.cho_solve(C, Pt) # inv(Phi^T*Phi)*Phi^T*y\n",
        "\n",
        "    return theta_ml"
      ]
    },
    {
      "cell_type": "markdown",
      "metadata": {
        "id": "wb9GrT4bFeIb"
      },
      "source": [
        "## 2. Maximum A Posteriori Estimation"
      ]
    },
    {
      "cell_type": "code",
      "execution_count": 7,
      "metadata": {
        "id": "W28Jfgs4FeIc"
      },
      "outputs": [],
      "source": [
        "## EDIT THIS FUNCTION\n",
        "def map_estimate_poly(Phi, y, sigma, alpha):\n",
        "    # Phi: training inputs, Size of N x D\n",
        "    # y: training targets, Size of D x 1\n",
        "    # sigma: standard deviation of the noise\n",
        "    # alpha: standard deviation of the prior on the parameters\n",
        "    # returns: MAP estimate theta_map, Size of D x 1\n",
        "\n",
        "    D = Phi.shape[1]\n",
        "\n",
        "    # SOLUTION\n",
        "    PP = Phi.T @ Phi + (sigma/alpha)**2 * np.eye(D)\n",
        "    theta_map = scipy.linalg.solve(PP, Phi.T @ y)\n",
        "\n",
        "    return theta_map"
      ]
    },
    {
      "cell_type": "code",
      "execution_count": 8,
      "metadata": {
        "id": "aI58fBgbFeIc"
      },
      "outputs": [],
      "source": [
        "# define the function we wish to estimate later\n",
        "def g(x, sigma):\n",
        "    p = np.hstack([x**0, x**1, np.sin(x)])\n",
        "    w = np.array([-1.0, 0.1, 1.0]).reshape(-1,1)\n",
        "    return p @ w + sigma*np.random.normal(size=x.shape)"
      ]
    },
    {
      "cell_type": "code",
      "execution_count": 9,
      "metadata": {
        "colab": {
          "base_uri": "https://localhost:8080/",
          "height": 449
        },
        "id": "BbClcqDJFeIc",
        "outputId": "5b5a46ae-d080-4f2d-d990-105c03e1ab14"
      },
      "outputs": [
        {
          "data": {
            "image/png": "[encoded data removed]",
            "text/plain": [
              "<Figure size 325x200.861 with 1 Axes>"
            ]
          },
          "metadata": {},
          "output_type": "display_data"
        }
      ],
      "source": [
        "# Generate some data\n",
        "sigma = 1.0 # noise standard deviation\n",
        "alpha = 1.0 # standard deviation of the parameter prior\n",
        "N = 20\n",
        "\n",
        "np.random.seed(42)\n",
        "\n",
        "X = (np.random.rand(N)*10.0 - 5.0).reshape(-1,1)\n",
        "y = g(X, sigma) # training targets\n",
        "\n",
        "plt.figure()\n",
        "plt.plot(X, y, '+')\n",
        "plt.xlabel(\"$x$\")\n",
        "plt.ylabel(\"$y$\")\n",
        "plt.savefig('data.pdf')"
      ]
    },
    {
      "cell_type": "code",
      "execution_count": 10,
      "metadata": {
        "colab": {
          "base_uri": "https://localhost:8080/",
          "height": 434
        },
        "id": "XS6wk6ImFeIc",
        "outputId": "d070e15a-6c78-4c15-b75f-f19085c86666"
      },
      "outputs": [
        {
          "data": {
            "image/png": "[encoded data removed]",
            "text/plain": [
              "<Figure size 325x200.861 with 1 Axes>"
            ]
          },
          "metadata": {},
          "output_type": "display_data"
        }
      ],
      "source": [
        "# get the MAP estimate\n",
        "K = 8 # polynomial degree\n",
        "\n",
        "\n",
        "# feature matrix\n",
        "Phi = poly_features(X, K)\n",
        "\n",
        "theta_map = map_estimate_poly(Phi, y, sigma, alpha)\n",
        "\n",
        "# maximum likelihood estimate\n",
        "theta_ml = nonlinear_features_maximum_likelihood(Phi, y)\n",
        "\n",
        "Xtest = np.linspace(-5,5,100).reshape(-1,1)\n",
        "ytest = g(Xtest, sigma)\n",
        "\n",
        "Phi_test = poly_features(Xtest, K)\n",
        "y_pred_map = Phi_test @ theta_map\n",
        "\n",
        "y_pred_mle = Phi_test @ theta_ml\n",
        "\n",
        "plt.figure()\n",
        "plt.plot(X, y, '+')\n",
        "plt.plot(Xtest, y_pred_map)\n",
        "plt.plot(Xtest, y_pred_mle)\n",
        "\n",
        "plt.legend([\"data\", r\"prediction using $\\theta_{MAP}$\", r\"prediction using $\\theta_{MLE}$\"], frameon = False)\n",
        "plt.savefig('map_mle.pdf')"
      ]
    },
    {
      "cell_type": "code",
      "execution_count": 11,
      "metadata": {
        "colab": {
          "base_uri": "https://localhost:8080/"
        },
        "id": "JZRQpctMFeIc",
        "outputId": "a7616225-b90e-4ab8-c271-3f6b856e1399"
      },
      "outputs": [
        {
          "name": "stdout",
          "output_type": "stream",
          "text": [
            "[[-1.49712990e+00 -1.08154986e+00]\n",
            " [ 8.56868912e-01  6.09177023e-01]\n",
            " [-1.28335730e-01 -3.62071208e-01]\n",
            " [-7.75319509e-02 -3.70531732e-03]\n",
            " [ 3.56425467e-02  7.43090617e-02]\n",
            " [-4.11626749e-03 -1.03278646e-02]\n",
            " [-2.48817783e-03 -4.89363010e-03]\n",
            " [ 2.70146690e-04  4.24148554e-04]\n",
            " [ 5.35996050e-05  1.03384719e-04]]\n"
          ]
        }
      ],
      "source": [
        "print(np.hstack([theta_ml, theta_map]))"
      ]
    },
    {
      "cell_type": "markdown",
      "metadata": {
        "id": "4MnbxdfGFeId"
      },
      "source": [
        "## 3. Bayesian Linear Regression"
      ]
    },
    {
      "cell_type": "code",
      "execution_count": 12,
      "metadata": {
        "id": "nshCBlpAFeId"
      },
      "outputs": [],
      "source": [
        "# Test inputs\n",
        "Ntest = 200\n",
        "Xtest = np.linspace(-5, 5, Ntest).reshape(-1,1) # test inputs\n",
        "\n",
        "prior_var = 2.0 # variance of the parameter prior (alpha^2). We assume this is known.\n",
        "noise_var = 1.0 # noise variance (sigma^2). We assume this is known.\n",
        "\n",
        "pol_deg = 3 # degree of the polynomial we consider at the moment"
      ]
    },
    {
      "cell_type": "code",
      "execution_count": 13,
      "metadata": {
        "colab": {
          "base_uri": "https://localhost:8080/",
          "height": 472
        },
        "id": "I_Q2exBFFeId",
        "outputId": "47069e03-6e9e-4b2c-dec4-fcf719fe581b"
      },
      "outputs": [
        {
          "data": {
            "image/png": "[encoded data removed]",
            "text/plain": [
              "<Figure size 325x200.861 with 1 Axes>"
            ]
          },
          "metadata": {},
          "output_type": "display_data"
        }
      ],
      "source": [
        "## EDIT THIS CELL\n",
        "\n",
        "# compute the feature matrix for the test inputs\n",
        "Phi_test = poly_features(Xtest, pol_deg) # N x (pol_deg+1) feature matrix SOLUTION\n",
        "\n",
        "# compute the (marginal) prior at the test input locations\n",
        "# prior mean\n",
        "prior_mean = np.zeros((Ntest,1)) # prior mean <-- SOLUTION\n",
        "\n",
        "# prior variance\n",
        "full_covariance = Phi_test @ Phi_test.T * prior_var # N x N covariance matrix of all function values\n",
        "prior_marginal_var =  np.diag(full_covariance)\n",
        "\n",
        "# Let us visualize the prior over functions\n",
        "plt.figure()\n",
        "plt.plot(Xtest, prior_mean, color=\"k\")\n",
        "\n",
        "conf_bound1 = np.sqrt(prior_marginal_var).flatten()\n",
        "conf_bound2 = 2.0*np.sqrt(prior_marginal_var).flatten()\n",
        "conf_bound3 = 2.0*np.sqrt(prior_marginal_var + noise_var).flatten()\n",
        "plt.fill_between(Xtest.flatten(), prior_mean.flatten() + conf_bound1,\n",
        "             prior_mean.flatten() - conf_bound1, alpha = 0.1, color=\"k\")\n",
        "plt.fill_between(Xtest.flatten(), prior_mean.flatten() + conf_bound2,\n",
        "                 prior_mean.flatten() - conf_bound2, alpha = 0.1, color=\"k\")\n",
        "plt.fill_between(Xtest.flatten(), prior_mean.flatten() + conf_bound3,\n",
        "                 prior_mean.flatten() - conf_bound3, alpha = 0.1, color=\"k\")\n",
        "\n",
        "plt.xlabel('$x$')\n",
        "plt.ylabel('$y$')\n",
        "plt.title(\"Prior over functions\");"
      ]
    },
    {
      "cell_type": "markdown",
      "metadata": {
        "id": "F-ncv_09FeId"
      },
      "source": [
        "Now, we will use this prior distribution and sample functions from it."
      ]
    },
    {
      "cell_type": "code",
      "execution_count": 14,
      "metadata": {
        "colab": {
          "base_uri": "https://localhost:8080/",
          "height": 469
        },
        "id": "CWBvHnllFeId",
        "outputId": "abaefdad-0adb-4c31-ee31-0d91f072fe1f"
      },
      "outputs": [
        {
          "name": "stdout",
          "output_type": "stream",
          "text": [
            "Every sampled function is a polynomial of degree 3\n"
          ]
        },
        {
          "data": {
            "image/png": "[encoded data removed]",
            "text/plain": [
              "<Figure size 325x200.861 with 1 Axes>"
            ]
          },
          "metadata": {},
          "output_type": "display_data"
        }
      ],
      "source": [
        "## EDIT THIS CELL\n",
        "\n",
        "# samples from the prior\n",
        "num_samples = 10\n",
        "\n",
        "# We first need to generate random weights theta_i, which we sample from the parameter prior\n",
        "random_weights = np.random.normal(size=(pol_deg+1,num_samples), scale=np.sqrt(prior_var))\n",
        "\n",
        "# Now, we compute the induced random functions, evaluated at the test input locations\n",
        "# Every function sample is given as f_i = Phi * theta_i,\n",
        "# where theta_i is a sample from the parameter prior\n",
        "\n",
        "sample_function = Phi_test @ random_weights # <-- SOLUTION\n",
        "\n",
        "plt.figure()\n",
        "plt.plot(Xtest, sample_function, color=\"r\")\n",
        "plt.title(\"Plausible functions under the prior\")\n",
        "print(\"Every sampled function is a polynomial of degree \"+str(pol_deg));"
      ]
    },
    {
      "cell_type": "markdown",
      "metadata": {
        "id": "c2qivAQgFeIe"
      },
      "source": [
        "Now we are given some training inputs $\\boldsymbol x_1, \\dotsc, \\boldsymbol x_N$, which we collect in a matrix $\\boldsymbol X = [\\boldsymbol x_1, \\dotsc, \\boldsymbol x_N]^\\top\\in\\mathbb{R}^{N\\times D}$"
      ]
    },
    {
      "cell_type": "code",
      "execution_count": 15,
      "metadata": {
        "id": "gR5bh9SoFeIe"
      },
      "outputs": [],
      "source": [
        "N = 10\n",
        "X = np.random.uniform(high=5, low=-5, size=(N,1)) # training inputs, size Nx1\n",
        "y = g(X, np.sqrt(noise_var)) # training targets, size Nx1"
      ]
    },
    {
      "cell_type": "markdown",
      "metadata": {
        "id": "OIk6_a2NFeIe"
      },
      "source": [
        "Now, let us compute the posterior"
      ]
    },
    {
      "cell_type": "code",
      "execution_count": 16,
      "metadata": {
        "id": "rPaH8WzsFeIe"
      },
      "outputs": [],
      "source": [
        "## EDIT THIS FUNCTION\n",
        "\n",
        "def polyfit(X, y, K, prior_var, noise_var):\n",
        "    # X: training inputs, size N x D\n",
        "    # y: training targets, size N x 1\n",
        "    # K: degree of polynomial we consider\n",
        "    # prior_var: prior variance of the parameter distribution\n",
        "    # sigma: noise variance\n",
        "\n",
        "    jitter = 1e-08 # increases numerical stability\n",
        "\n",
        "    Phi = poly_features(X, K) # N x (K+1) feature matrix\n",
        "\n",
        "    # Compute maximum likelihood estimate\n",
        "    Pt = Phi.T @ y # Phi*y, size (K+1,1)\n",
        "    PP = Phi.T @ Phi + jitter*np.eye(K+1) # size (K+1, K+1)\n",
        "    C = scipy.linalg.cho_factor(PP)\n",
        "    # maximum likelihood estimate\n",
        "    theta_ml = scipy.linalg.cho_solve(C, Pt) # inv(Phi^T*Phi)*Phi^T*y, size (K+1,1)\n",
        "\n",
        "#     theta_ml = scipy.linalg.solve(PP, Pt) # inv(Phi^T*Phi)*Phi^T*y, size (K+1,1)\n",
        "\n",
        "    # MAP estimate\n",
        "    theta_map = scipy.linalg.solve(PP + noise_var/prior_var*np.eye(K+1), Pt)\n",
        "\n",
        "    # parameter posterior\n",
        "    iSN = (np.eye(K+1)/prior_var + PP/noise_var) # posterior precision\n",
        "    SN = scipy.linalg.pinv(noise_var*np.eye(K+1)/prior_var + PP)*noise_var  # posterior covariance\n",
        "    mN = scipy.linalg.solve(iSN, Pt/noise_var) # posterior mean\n",
        "\n",
        "    return (theta_ml, theta_map, mN, SN)"
      ]
    },
    {
      "cell_type": "code",
      "execution_count": 17,
      "metadata": {
        "id": "FMl2gwwuFeIe"
      },
      "outputs": [],
      "source": [
        "theta_ml, theta_map, theta_mean, theta_var = polyfit(X, y, pol_deg, alpha, sigma)"
      ]
    },
    {
      "cell_type": "markdown",
      "metadata": {
        "id": "XsCzJTGHFeIe"
      },
      "source": [
        "Now, let's make predictions (ignoring the measurement noise). We obtain three predictors:\n",
        "\\begin{align}\n",
        "&\\text{Maximum likelihood: }E[f(\\boldsymbol X_{\\text{test}})] = \\boldsymbol \\phi(X_{\\text{test}})\\boldsymbol \\theta_{ml}\\\\\n",
        "&\\text{Maximum a posteriori: } E[f(\\boldsymbol X_{\\text{test}})] = \\boldsymbol \\phi(X_{\\text{test}})\\boldsymbol \\theta_{map}\\\\\n",
        "&\\text{Bayesian: } p(f(\\boldsymbol X_{\\text{test}})) = \\mathcal N(f(\\boldsymbol X_{\\text{test}}) \\,|\\, \\boldsymbol \\phi(X_{\\text{test}}) \\boldsymbol\\theta_{\\text{mean}},\\, \\boldsymbol\\phi(X_{\\text{test}}) \\boldsymbol\\theta_{\\text{var}}  \\boldsymbol\\phi(X_{\\text{test}})^\\top)\n",
        "\\end{align}\n",
        "We already computed all quantities. Write some code that implements all three predictors."
      ]
    },
    {
      "cell_type": "code",
      "execution_count": 18,
      "metadata": {
        "id": "1bnfGwP7FeIe"
      },
      "outputs": [],
      "source": [
        "## EDIT THIS CELL\n",
        "\n",
        "# predictions (ignoring the measurement/observations noise)\n",
        "\n",
        "Phi_test = poly_features(Xtest, pol_deg) # N x (K+1)\n",
        "\n",
        "# maximum likelihood predictions (just the mean)\n",
        "m_mle_test = Phi_test @ theta_ml\n",
        "\n",
        "# MAP predictions (just the mean)\n",
        "m_map_test = Phi_test @ theta_map\n",
        "\n",
        "# predictive distribution (Bayesian linear regression)\n",
        "# mean prediction\n",
        "mean_blr = Phi_test @ theta_mean\n",
        "# variance prediction\n",
        "cov_blr =  Phi_test @ theta_var @ Phi_test.T"
      ]
    },
    {
      "cell_type": "code",
      "execution_count": 19,
      "metadata": {},
      "outputs": [
        {
          "data": {
            "image/png": "[encoded data removed]",
            "text/plain": [
              "<Figure size 325x200.861 with 1 Axes>"
            ]
          },
          "metadata": {},
          "output_type": "display_data"
        }
      ],
      "source": [
        "# plot the posterior\n",
        "plt.figure()\n",
        "plt.plot(X, y, \"+\")\n",
        "# plt.plot(Xtest, m_mle_test)\n",
        "# plt.plot(Xtest, m_map_test)\n",
        "var_blr = np.diag(cov_blr)\n",
        "conf_bound1 = np.sqrt(var_blr).flatten()\n",
        "conf_bound2 = 2.0*np.sqrt(var_blr).flatten()\n",
        "conf_bound3 = 2.0*np.sqrt(var_blr + sigma).flatten()\n",
        "\n",
        "plt.fill_between(Xtest.flatten(), mean_blr.flatten() + conf_bound1,\n",
        "                 mean_blr.flatten() - conf_bound1, alpha = 0.1, color=\"k\")\n",
        "# plt.fill_between(Xtest.flatten(), mean_blr.flatten() + conf_bound2,\n",
        "#                  mean_blr.flatten() - conf_bound2, alpha = 0.1, color=\"k\")\n",
        "# plt.fill_between(Xtest.flatten(), mean_blr.flatten() + conf_bound3,\n",
        "#                  mean_blr.flatten() - conf_bound3, alpha = 0.1, color=\"k\")\n",
        "plt.legend([\"Training data\",  \"BLR\"], frameon = False)\n",
        "plt.xlabel('$x$')\n",
        "plt.ylabel('$y$')\n",
        "plt.ylim(-7, 4)\n",
        "plt.savefig('blr.pdf')"
      ]
    },
    {
      "cell_type": "code",
      "execution_count": 20,
      "metadata": {},
      "outputs": [
        {
          "data": {
            "image/png": "[encoded data removed]",
            "text/plain": [
              "<Figure size 325x200.861 with 1 Axes>"
            ]
          },
          "metadata": {},
          "output_type": "display_data"
        }
      ],
      "source": [
        "# plot the posterior\n",
        "plt.figure()\n",
        "plt.plot(X, y, \"+\")\n",
        "plt.plot(Xtest, m_mle_test)\n",
        "plt.plot(Xtest, m_map_test)\n",
        "var_blr = np.diag(cov_blr)\n",
        "conf_bound1 = np.sqrt(var_blr).flatten()\n",
        "conf_bound2 = 2.0*np.sqrt(var_blr).flatten()\n",
        "conf_bound3 = 2.0*np.sqrt(var_blr + sigma).flatten()\n",
        "\n",
        "plt.fill_between(Xtest.flatten(), mean_blr.flatten() + conf_bound1,\n",
        "                 mean_blr.flatten() - conf_bound1, alpha = 0.1, color=\"k\")\n",
        "plt.fill_between(Xtest.flatten(), mean_blr.flatten() + conf_bound2,\n",
        "                 mean_blr.flatten() - conf_bound2, alpha = 0.1, color=\"k\")\n",
        "plt.fill_between(Xtest.flatten(), mean_blr.flatten() + conf_bound3,\n",
        "                 mean_blr.flatten() - conf_bound3, alpha = 0.1, color=\"k\")\n",
        "plt.legend([\"Training data\", \"MLE\", \"MAP\", \"BLR\"], frameon = False)\n",
        "plt.xlabel('$x$')\n",
        "plt.ylabel('$y$')\n",
        "plt.ylim(-7, 4)\n",
        "plt.savefig('blr_mle_map.pdf')"
      ]
    },
    {
      "cell_type": "code",
      "execution_count": null,
      "metadata": {},
      "outputs": [],
      "source": []
    }
  ],
  "metadata": {
    "colab": {
      "provenance": []
    },
    "kernelspec": {
      "display_name": "Python 3",
      "language": "python",
      "name": "python3"
    },
    "language_info": {
      "codemirror_mode": {
        "name": "ipython",
        "version": 3
      },
      "file_extension": ".py",
      "mimetype": "text/x-python",
      "name": "python",
      "nbconvert_exporter": "python",
      "pygments_lexer": "ipython3",
      "version": "3.9.16"
    }
  },
  "nbformat": 4,
  "nbformat_minor": 0
}
