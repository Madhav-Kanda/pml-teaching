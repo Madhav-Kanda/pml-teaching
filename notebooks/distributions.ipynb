{
 "cells": [
  {
   "cell_type": "code",
   "execution_count": 1,
   "metadata": {},
   "outputs": [],
   "source": [
    "import torch\n",
    "import numpy as np\n",
    "import matplotlib.pyplot as plt\n",
    "import pandas as pd\n",
    "import matplotlib.pyplot as plt\n",
    "%matplotlib inline\n",
    "# Retina display\n",
    "%config InlineBackend.figure_format = 'retina'\n"
   ]
  },
  {
   "cell_type": "code",
   "execution_count": 2,
   "metadata": {},
   "outputs": [],
   "source": [
    "from tueplots import bundles\n",
    "plt.rcParams.update(bundles.beamer_moml())\n",
    "\n",
    "\n",
    "# Also add despine to the bundle using rcParams\n",
    "plt.rcParams['axes.spines.right'] = False\n",
    "plt.rcParams['axes.spines.top'] = False\n",
    "\n",
    "# Increase font size to match Beamer template\n",
    "plt.rcParams['font.size'] = 16\n",
    "# Make background transparent\n",
    "plt.rcParams['figure.facecolor'] = 'none'"
   ]
  },
  {
   "cell_type": "markdown",
   "metadata": {},
   "source": [
    "### Discrete distributions\n",
    "\n",
    "#### Bernoulli distribution\n",
    "\n",
    "The PDF of the Bernoulli distribution is given by\n",
    "\n",
    "$$\n",
    "f(x) = p^x (1-p)^{1-x}\n",
    "$$\n",
    "\n",
    "where $x \\in \\{0, 1\\}$ and $p \\in [0, 1]$.\n"
   ]
  },
  {
   "cell_type": "code",
   "execution_count": 3,
   "metadata": {},
   "outputs": [
    {
     "data": {
      "text/plain": [
       "tensor(0.3000)"
      ]
     },
     "execution_count": 3,
     "metadata": {},
     "output_type": "execute_result"
    }
   ],
   "source": [
    "bernoulli = torch.distributions.Bernoulli(probs=0.3)\n",
    "bernoulli.probs"
   ]
  },
  {
   "cell_type": "code",
   "execution_count": 4,
   "metadata": {},
   "outputs": [
    {
     "data": {
      "text/plain": [
       "([<matplotlib.axis.XTick at 0x7f534dd60b20>,\n",
       "  <matplotlib.axis.XTick at 0x7f534dd60af0>],\n",
       " [Text(0, 0, '0'), Text(1, 0, '1')])"
      ]
     },
     "execution_count": 4,
     "metadata": {},
     "output_type": "execute_result"
    },
    {
     "data": {
      "image/png": "[encoded data removed]",
      "text/plain": [
       "<Figure size 396.85x178.583 with 1 Axes>"
      ]
     },
     "metadata": {
      "image/png": {
       "height": 174,
       "width": 393
      },
      "needs_background": "light"
     },
     "output_type": "display_data"
    }
   ],
   "source": [
    "# Plot PDF\n",
    "p_0 = bernoulli.probs.item()\n",
    "p_1 = 1 - p_0\n",
    "\n",
    "plt.bar([0, 1], [p_0, p_1], color='C0', edgecolor='k')\n",
    "plt.ylim(0, 1)\n",
    "plt.xticks([0, 1], ['0', '1'])"
   ]
  },
  {
   "cell_type": "code",
   "execution_count": 5,
   "metadata": {},
   "outputs": [
    {
     "data": {
      "text/plain": [
       "tensor(0.5744)"
      ]
     },
     "execution_count": 5,
     "metadata": {},
     "output_type": "execute_result"
    }
   ],
   "source": [
    "### Careful!\n",
    "bernoulli = torch.distributions.Bernoulli(logits=0.3)\n",
    "bernoulli.probs"
   ]
  },
  {
   "cell_type": "markdown",
   "metadata": {},
   "source": [
    "Logits?!\n",
    "\n",
    "Probs range from 0 to 1, logits range from -inf to inf. Logits are the inverse of the sigmoid function.\n",
    "\n",
    "The sigmoid function is defined as:\n",
    "\n",
    "$$\\sigma(x) = \\frac{1}{1 + e^{-x}}$$\n",
    "\n",
    "The inverse of the sigmoid function is defined as:\n",
    "\n",
    "$$\\sigma^{-1}(x) = \\log \\frac{x}{1 - x}$$\n",
    "\n",
    "\n"
   ]
  },
  {
   "cell_type": "code",
   "execution_count": 6,
   "metadata": {},
   "outputs": [
    {
     "data": {
      "text/plain": [
       "tensor(0.)"
      ]
     },
     "execution_count": 6,
     "metadata": {},
     "output_type": "execute_result"
    }
   ],
   "source": [
    "### Sampling\n",
    "bernoulli.sample()"
   ]
  },
  {
   "cell_type": "code",
   "execution_count": 7,
   "metadata": {},
   "outputs": [
    {
     "data": {
      "text/plain": [
       "tensor([1., 0., 1., 0., 1., 1., 1., 1., 1., 1.])"
      ]
     },
     "execution_count": 7,
     "metadata": {},
     "output_type": "execute_result"
    }
   ],
   "source": [
    "bernoulli.sample((10,))"
   ]
  },
  {
   "cell_type": "code",
   "execution_count": 8,
   "metadata": {},
   "outputs": [
    {
     "data": {
      "text/plain": [
       "tensor([1., 0., 1., 0., 0., 0., 1., 0., 1., 1., 0., 0., 1., 1., 1., 1., 1., 1.,\n",
       "        0., 0., 1., 0., 1., 0., 1., 1., 1., 1., 0., 0., 1., 0., 1., 1., 1., 1.,\n",
       "        1., 0., 0., 0., 1., 0., 1., 1., 1., 1., 0., 0., 1., 0., 0., 1., 1., 1.,\n",
       "        1., 1., 1., 1., 1., 0., 0., 0., 0., 0., 0., 0., 1., 1., 0., 1., 0., 1.,\n",
       "        1., 1., 1., 1., 1., 1., 0., 0., 1., 1., 0., 0., 0., 1., 1., 1., 1., 1.,\n",
       "        1., 1., 1., 1., 1., 0., 0., 1., 1., 1., 0., 0., 1., 1., 0., 0., 0., 0.,\n",
       "        0., 0., 0., 1., 1., 1., 0., 1., 1., 1., 1., 1., 1., 1., 0., 0., 1., 1.,\n",
       "        1., 0., 1., 1., 1., 0., 0., 1., 1., 1., 1., 0., 1., 1., 1., 0., 1., 1.,\n",
       "        0., 0., 0., 1., 1., 1., 0., 0., 0., 1., 0., 0., 1., 1., 1., 0., 0., 1.,\n",
       "        1., 0., 0., 0., 1., 1., 1., 1., 1., 0., 1., 1., 1., 1., 1., 0., 0., 0.,\n",
       "        0., 1., 1., 0., 1., 1., 1., 0., 1., 0., 0., 1., 1., 1., 1., 0., 0., 1.,\n",
       "        1., 1., 0., 0., 0., 1., 0., 0., 1., 1., 0., 1., 0., 1., 0., 0., 0., 1.,\n",
       "        1., 1., 0., 1., 1., 1., 0., 0., 0., 0., 0., 0., 1., 0., 1., 0., 0., 1.,\n",
       "        0., 1., 0., 0., 1., 0., 0., 0., 1., 1., 1., 1., 0., 1., 1., 1., 1., 1.,\n",
       "        1., 1., 0., 0., 1., 0., 1., 1., 0., 1., 1., 1., 1., 0., 0., 0., 1., 1.,\n",
       "        1., 1., 0., 0., 0., 1., 1., 1., 1., 1., 0., 0., 1., 1., 0., 1., 0., 0.,\n",
       "        1., 1., 0., 0., 1., 0., 1., 1., 0., 0., 0., 1., 1., 1., 0., 0., 1., 1.,\n",
       "        1., 1., 0., 0., 1., 0., 1., 0., 1., 1., 1., 0., 1., 0., 1., 0., 0., 1.,\n",
       "        0., 0., 0., 1., 1., 1., 0., 1., 1., 1., 0., 0., 1., 1., 0., 0., 1., 0.,\n",
       "        0., 0., 1., 0., 0., 0., 0., 1., 1., 0., 1., 0., 1., 0., 0., 0., 0., 0.,\n",
       "        1., 1., 1., 1., 0., 0., 0., 1., 1., 0., 0., 0., 1., 0., 1., 0., 1., 0.,\n",
       "        0., 1., 0., 0., 0., 1., 0., 1., 0., 0., 0., 1., 0., 0., 0., 0., 1., 0.,\n",
       "        1., 1., 1., 0., 1., 0., 1., 1., 0., 1., 1., 0., 1., 1., 1., 0., 1., 1.,\n",
       "        0., 0., 0., 1., 1., 1., 0., 0., 1., 0., 1., 1., 1., 1., 1., 1., 0., 0.,\n",
       "        1., 1., 1., 1., 0., 0., 1., 0., 0., 0., 1., 0., 1., 0., 0., 0., 1., 0.,\n",
       "        1., 1., 1., 1., 0., 0., 0., 1., 1., 0., 0., 0., 0., 1., 1., 0., 1., 1.,\n",
       "        0., 0., 0., 1., 0., 1., 1., 1., 0., 0., 0., 1., 1., 0., 1., 1., 1., 1.,\n",
       "        1., 1., 1., 1., 0., 1., 1., 1., 1., 1., 1., 0., 1., 1., 0., 1., 0., 1.,\n",
       "        1., 0., 1., 0., 1., 0., 1., 0., 1., 1., 1., 0., 0., 0., 0., 1., 1., 1.,\n",
       "        0., 1., 1., 1., 1., 0., 0., 1., 0., 1., 0., 1., 0., 1., 1., 0., 1., 0.,\n",
       "        0., 0., 1., 1., 1., 0., 1., 1., 1., 1., 1., 1., 0., 0., 1., 1., 1., 1.,\n",
       "        0., 0., 0., 1., 0., 0., 0., 0., 1., 0., 1., 1., 0., 1., 1., 0., 1., 0.,\n",
       "        1., 0., 0., 1., 1., 1., 1., 1., 1., 0., 0., 0., 1., 1., 0., 1., 0., 0.,\n",
       "        1., 0., 1., 0., 1., 0., 1., 0., 1., 0., 0., 1., 0., 1., 0., 0., 1., 1.,\n",
       "        0., 0., 1., 0., 1., 1., 0., 1., 0., 1., 0., 1., 0., 0., 1., 1., 1., 1.,\n",
       "        0., 0., 1., 0., 1., 0., 1., 0., 1., 0., 0., 0., 1., 0., 1., 1., 1., 0.,\n",
       "        1., 1., 0., 0., 1., 1., 0., 1., 1., 0., 0., 0., 0., 1., 1., 1., 1., 1.,\n",
       "        1., 1., 1., 1., 1., 1., 0., 0., 1., 0., 1., 1., 1., 1., 1., 1., 0., 1.,\n",
       "        0., 0., 1., 0., 1., 0., 1., 1., 0., 0., 0., 1., 0., 1., 1., 0., 1., 0.,\n",
       "        0., 1., 0., 0., 0., 1., 1., 1., 1., 0., 0., 1., 0., 0., 1., 1., 0., 0.,\n",
       "        1., 0., 0., 1., 1., 0., 1., 1., 1., 0., 1., 1., 0., 0., 1., 1., 1., 1.,\n",
       "        0., 0., 0., 1., 1., 0., 1., 0., 0., 1., 0., 1., 0., 0., 1., 0., 1., 0.,\n",
       "        1., 1., 1., 0., 1., 0., 1., 0., 0., 0., 1., 0., 1., 1., 1., 1., 1., 1.,\n",
       "        1., 0., 1., 0., 0., 0., 0., 1., 1., 1., 0., 0., 1., 1., 0., 0., 1., 1.,\n",
       "        0., 0., 1., 1., 1., 1., 0., 1., 0., 1., 1., 1., 0., 0., 0., 1., 1., 0.,\n",
       "        0., 0., 0., 1., 1., 1., 1., 1., 1., 1., 1., 1., 1., 0., 0., 0., 1., 1.,\n",
       "        0., 0., 0., 0., 1., 1., 1., 1., 1., 1., 0., 1., 0., 0., 1., 1., 0., 1.,\n",
       "        1., 1., 1., 0., 0., 1., 1., 0., 0., 1., 0., 1., 0., 1., 0., 1., 1., 0.,\n",
       "        0., 0., 1., 1., 0., 0., 1., 1., 0., 0., 0., 1., 1., 1., 1., 0., 1., 1.,\n",
       "        1., 1., 0., 0., 1., 0., 0., 1., 1., 0., 1., 0., 0., 0., 1., 1., 0., 0.,\n",
       "        1., 0., 1., 1., 0., 1., 0., 1., 1., 1., 1., 1., 0., 0., 0., 0., 0., 1.,\n",
       "        1., 1., 1., 1., 0., 1., 0., 1., 1., 1., 1., 1., 1., 0., 1., 0., 0., 1.,\n",
       "        1., 0., 1., 1., 0., 1., 1., 0., 1., 1., 1., 1., 0., 1., 1., 1., 0., 1.,\n",
       "        0., 0., 1., 0., 1., 0., 1., 1., 1., 0., 0., 0., 0., 1., 1., 0., 1., 0.,\n",
       "        0., 0., 1., 0., 1., 0., 1., 0., 0., 0., 0., 1., 1., 1., 0., 0., 0., 1.,\n",
       "        1., 0., 1., 1., 0., 1., 1., 1., 0., 1.])"
      ]
     },
     "execution_count": 8,
     "metadata": {},
     "output_type": "execute_result"
    }
   ],
   "source": [
    "data = bernoulli.sample((1000,))\n",
    "data"
   ]
  },
  {
   "cell_type": "code",
   "execution_count": 9,
   "metadata": {},
   "outputs": [
    {
     "data": {
      "text/plain": [
       "tensor(556.)"
      ]
     },
     "execution_count": 9,
     "metadata": {},
     "output_type": "execute_result"
    }
   ],
   "source": [
    "### Count number of 1s\n",
    "data.sum()"
   ]
  },
  {
   "cell_type": "code",
   "execution_count": 10,
   "metadata": {},
   "outputs": [],
   "source": [
    "### IID sampling\n",
    "size = 1000\n",
    "data = torch.empty(size)\n",
    "for s_num in range(size):\n",
    "    dist = torch.distributions.Bernoulli(probs=0.3) # Each sample uses the same distribution (Identical)\n",
    "    data[s_num] = dist.sample() # Each sample is independent (Independent)"
   ]
  },
  {
   "cell_type": "code",
   "execution_count": 11,
   "metadata": {},
   "outputs": [],
   "source": [
    "### Dependent sampling\n",
    "size = 1000\n",
    "\n",
    "### If previous sample was 1, next sample is 1 with probability 0.9\n",
    "### If previous sample was 1, next sample is 0 with probability 0.1\n",
    "### If previous sample was 0, next sample is 0 with probability 0.8\n",
    "### If previous sample was 0, next sample is 1 with probability 0.2"
   ]
  },
  {
   "cell_type": "code",
   "execution_count": 12,
   "metadata": {},
   "outputs": [
    {
     "data": {
      "text/plain": [
       "tensor([0.2000, 0.3000, 0.5000])"
      ]
     },
     "execution_count": 12,
     "metadata": {},
     "output_type": "execute_result"
    }
   ],
   "source": [
    "### Categorical distribution\n",
    "\n",
    "p1 = 0.2\n",
    "p2 = 0.3\n",
    "p3 = 0.5\n",
    "\n",
    "categorical = torch.distributions.Categorical(probs=torch.tensor([p1, p2, p3]))\n",
    "categorical.probs"
   ]
  },
  {
   "cell_type": "code",
   "execution_count": 13,
   "metadata": {},
   "outputs": [
    {
     "data": {
      "text/plain": [
       "([<matplotlib.axis.XTick at 0x7f534bc85c10>,\n",
       "  <matplotlib.axis.XTick at 0x7f534bc85be0>,\n",
       "  <matplotlib.axis.XTick at 0x7f534bc85ac0>],\n",
       " [Text(0, 0, '0'), Text(1, 0, '1'), Text(2, 0, '2')])"
      ]
     },
     "execution_count": 13,
     "metadata": {},
     "output_type": "execute_result"
    },
    {
     "data": {
      "image/png": "[encoded data removed]",
      "text/plain": [
       "<Figure size 396.85x178.583 with 1 Axes>"
      ]
     },
     "metadata": {
      "image/png": {
       "height": 174,
       "width": 393
      },
      "needs_background": "light"
     },
     "output_type": "display_data"
    }
   ],
   "source": [
    "# Plot PDF\n",
    "\n",
    "plt.bar([0, 1, 2], [p1, p2, p3], color='C0', edgecolor='k')\n",
    "plt.ylim(0, 1)\n",
    "plt.xticks([0, 1, 2], ['0', '1', '2'])"
   ]
  },
  {
   "cell_type": "code",
   "execution_count": 14,
   "metadata": {},
   "outputs": [],
   "source": [
    "### Uniform distribution\n",
    "\n",
    "uniform = torch.distributions.Uniform(low=0, high=1)"
   ]
  },
  {
   "cell_type": "code",
   "execution_count": 15,
   "metadata": {},
   "outputs": [
    {
     "data": {
      "text/plain": [
       "tensor(0.2577)"
      ]
     },
     "execution_count": 15,
     "metadata": {},
     "output_type": "execute_result"
    }
   ],
   "source": [
    "uniform.sample()"
   ]
  },
  {
   "cell_type": "code",
   "execution_count": 16,
   "metadata": {},
   "outputs": [
    {
     "data": {
      "text/plain": [
       "Interval(lower_bound=0.0, upper_bound=1.0)"
      ]
     },
     "execution_count": 16,
     "metadata": {},
     "output_type": "execute_result"
    }
   ],
   "source": [
    "uniform.support"
   ]
  },
  {
   "cell_type": "code",
   "execution_count": 57,
   "metadata": {},
   "outputs": [
    {
     "data": {
      "text/plain": [
       "<matplotlib.collections.PolyCollection at 0x7f5125da54f0>"
      ]
     },
     "execution_count": 57,
     "metadata": {},
     "output_type": "execute_result"
    },
    {
     "data": {
      "image/png": "[encoded data removed]",
      "text/plain": [
       "<Figure size 396.85x178.583 with 1 Axes>"
      ]
     },
     "metadata": {
      "image/png": {
       "height": 174,
       "width": 393
      },
      "needs_background": "light"
     },
     "output_type": "display_data"
    }
   ],
   "source": [
    "### Plot PDF\n",
    "xs = torch.linspace(0.0, 0.99999, 500)\n",
    "ys = uniform.log_prob(xs).exp()\n",
    "\n",
    "plt.plot(xs, ys, color='C0')\n",
    "# Filled area\n",
    "plt.fill_between(xs, ys, color='C0', alpha=0.2)\n"
   ]
  },
  {
   "cell_type": "code",
   "execution_count": 18,
   "metadata": {},
   "outputs": [],
   "source": [
    "### Why log_prob? and not prob?"
   ]
  },
  {
   "cell_type": "code",
   "execution_count": 19,
   "metadata": {},
   "outputs": [],
   "source": [
    "### Normal distribution\n",
    "\n",
    "normal = torch.distributions.Normal(loc=0, scale=1)\n"
   ]
  },
  {
   "cell_type": "code",
   "execution_count": 20,
   "metadata": {},
   "outputs": [
    {
     "data": {
      "text/plain": [
       "Real()"
      ]
     },
     "execution_count": 20,
     "metadata": {},
     "output_type": "execute_result"
    }
   ],
   "source": [
    "normal.support"
   ]
  },
  {
   "cell_type": "code",
   "execution_count": 58,
   "metadata": {},
   "outputs": [
    {
     "data": {
      "text/plain": [
       "<matplotlib.collections.PolyCollection at 0x7f5125751400>"
      ]
     },
     "execution_count": 58,
     "metadata": {},
     "output_type": "execute_result"
    },
    {
     "data": {
      "image/png": "[encoded data removed]",
      "text/plain": [
       "<Figure size 396.85x178.583 with 1 Axes>"
      ]
     },
     "metadata": {
      "image/png": {
       "height": 174,
       "width": 393
      },
      "needs_background": "light"
     },
     "output_type": "display_data"
    }
   ],
   "source": [
    "### Plot PDF\n",
    "xs = torch.linspace(-5, 5, 500)\n",
    "ys = normal.log_prob(xs).exp()\n",
    "plt.plot(xs, ys, color='C0')\n",
    "# Filled area\n",
    "plt.fill_between(xs, ys, color='C0', alpha=0.2)"
   ]
  },
  {
   "cell_type": "code",
   "execution_count": 59,
   "metadata": {},
   "outputs": [
    {
     "data": {
      "text/plain": [
       "<matplotlib.collections.PolyCollection at 0x7f5125a713a0>"
      ]
     },
     "execution_count": 59,
     "metadata": {},
     "output_type": "execute_result"
    },
    {
     "data": {
      "image/png": "[encoded data removed]",
      "text/plain": [
       "<Figure size 396.85x178.583 with 1 Axes>"
      ]
     },
     "metadata": {
      "image/png": {
       "height": 174,
       "width": 393
      },
      "needs_background": "light"
     },
     "output_type": "display_data"
    }
   ],
   "source": [
    "xs = torch.linspace(-50, 50, 500)\n",
    "ys = normal.log_prob(xs).exp()\n",
    "plt.plot(xs, ys, color='C0')\n",
    "# Filled area\n",
    "plt.fill_between(xs, ys, color='C0', alpha=0.2)"
   ]
  },
  {
   "cell_type": "code",
   "execution_count": 23,
   "metadata": {},
   "outputs": [
    {
     "data": {
      "text/plain": [
       "[<matplotlib.lines.Line2D at 0x7f534ba62160>]"
      ]
     },
     "execution_count": 23,
     "metadata": {},
     "output_type": "execute_result"
    },
    {
     "data": {
      "image/png": "[encoded data removed]",
      "text/plain": [
       "<Figure size 396.85x178.583 with 1 Axes>"
      ]
     },
     "metadata": {
      "image/png": {
       "height": 174,
       "width": 393
      },
      "needs_background": "light"
     },
     "output_type": "display_data"
    }
   ],
   "source": [
    "xs = torch.linspace(-50, 50, 500)\n",
    "ys = normal.log_prob(xs)\n",
    "plt.plot(xs, ys, color='C0')"
   ]
  },
  {
   "cell_type": "code",
   "execution_count": 24,
   "metadata": {},
   "outputs": [
    {
     "data": {
      "text/plain": [
       "tensor([ 0.1860, -1.3319,  0.3585,  0.0197, -0.8920,  0.3594,  1.4823,  0.4391,\n",
       "        -0.7085,  0.9405, -0.0467, -0.5588,  0.3798, -0.5605,  1.0027,  1.4456,\n",
       "         0.8330, -0.0784,  0.4536,  1.2500])"
      ]
     },
     "execution_count": 24,
     "metadata": {},
     "output_type": "execute_result"
    }
   ],
   "source": [
    "samples = normal.sample((1000,))\n",
    "samples[:20]"
   ]
  },
  {
   "cell_type": "code",
   "execution_count": 25,
   "metadata": {},
   "outputs": [
    {
     "data": {
      "text/plain": [
       "(array([0.00650792, 0.        , 0.        , 0.01301585, 0.        ,\n",
       "        0.00650792, 0.01301585, 0.00650792, 0.        , 0.00650792,\n",
       "        0.01301585, 0.01952377, 0.03253961, 0.05206338, 0.08460299,\n",
       "        0.08460299, 0.11063468, 0.14968222, 0.2017456 , 0.17571391,\n",
       "        0.24079304, 0.37095158, 0.29936432, 0.34491989, 0.43603081,\n",
       "        0.37745947, 0.42301492, 0.38396739, 0.32539609, 0.29285651,\n",
       "        0.35793574, 0.33841184, 0.27333275, 0.18872975, 0.19523768,\n",
       "        0.20825352, 0.12365053, 0.11714251, 0.04555546, 0.05857135,\n",
       "        0.02603169, 0.03904747, 0.03253961, 0.00650792, 0.00650792,\n",
       "        0.00650792, 0.        , 0.        , 0.00650792, 0.00650792]),\n",
       " array([-4.119436  , -3.965777  , -3.812118  , -3.6584592 , -3.5048003 ,\n",
       "        -3.3511415 , -3.1974826 , -3.0438237 , -2.8901649 , -2.7365057 ,\n",
       "        -2.5828469 , -2.429188  , -2.2755291 , -2.1218703 , -1.9682114 ,\n",
       "        -1.8145525 , -1.6608937 , -1.5072348 , -1.353576  , -1.1999171 ,\n",
       "        -1.0462582 , -0.8925993 , -0.7389404 , -0.5852815 , -0.43162262,\n",
       "        -0.27796376, -0.12430488,  0.029354  ,  0.18301289,  0.33667177,\n",
       "         0.49033064,  0.6439895 ,  0.79764843,  0.9513073 ,  1.1049662 ,\n",
       "         1.258625  ,  1.4122839 ,  1.5659428 ,  1.7196018 ,  1.8732606 ,\n",
       "         2.0269194 ,  2.1805782 ,  2.3342373 ,  2.4878962 ,  2.641555  ,\n",
       "         2.795214  ,  2.9488728 ,  3.1025317 ,  3.2561905 ,  3.4098494 ,\n",
       "         3.5635083 ], dtype=float32),\n",
       " <BarContainer object of 50 artists>)"
      ]
     },
     "execution_count": 25,
     "metadata": {},
     "output_type": "execute_result"
    },
    {
     "data": {
      "image/png": "[encoded data removed]",
      "text/plain": [
       "<Figure size 396.85x178.583 with 1 Axes>"
      ]
     },
     "metadata": {
      "image/png": {
       "height": 174,
       "width": 393
      },
      "needs_background": "light"
     },
     "output_type": "display_data"
    }
   ],
   "source": [
    "plt.hist(samples.numpy(), bins=50, density=True, edgecolor='k')"
   ]
  },
  {
   "cell_type": "code",
   "execution_count": 27,
   "metadata": {},
   "outputs": [
    {
     "data": {
      "text/plain": [
       "(array([0.00390475, 0.        , 0.00780951, 0.0078095 , 0.00780951,\n",
       "        0.00390475, 0.01171426, 0.03904755, 0.07028552, 0.11323783,\n",
       "        0.11714259, 0.20304725, 0.27333264, 0.33580883, 0.4060943 ,\n",
       "        0.39438009, 0.38266578, 0.30457076, 0.33580875, 0.28895178,\n",
       "        0.18742814, 0.16399962, 0.11714259, 0.05076181, 0.03514276,\n",
       "        0.02342853, 0.0078095 , 0.00390475, 0.        , 0.00780951]),\n",
       " array([-4.119436  , -3.8633378 , -3.6072395 , -3.3511415 , -3.0950432 ,\n",
       "        -2.8389452 , -2.5828469 , -2.3267488 , -2.0706508 , -1.8145525 ,\n",
       "        -1.5584544 , -1.3023562 , -1.0462582 , -0.79016   , -0.5340619 ,\n",
       "        -0.27796376, -0.02186562,  0.23423252,  0.49033064,  0.7464288 ,\n",
       "         1.0025269 ,  1.258625  ,  1.5147232 ,  1.7708213 ,  2.0269194 ,\n",
       "         2.2830176 ,  2.5391157 ,  2.795214  ,  3.051312  ,  3.3074102 ,\n",
       "         3.5635083 ], dtype=float32),\n",
       " <BarContainer object of 30 artists>)"
      ]
     },
     "execution_count": 27,
     "metadata": {},
     "output_type": "execute_result"
    },
    {
     "data": {
      "image/png": "[encoded data removed]",
      "text/plain": [
       "<Figure size 396.85x178.583 with 1 Axes>"
      ]
     },
     "metadata": {
      "image/png": {
       "height": 174,
       "width": 393
      },
      "needs_background": "light"
     },
     "output_type": "display_data"
    }
   ],
   "source": [
    "plt.hist(samples.numpy(), bins=30, density=True, edgecolor='k')"
   ]
  },
  {
   "cell_type": "code",
   "execution_count": 31,
   "metadata": {},
   "outputs": [
    {
     "data": {
      "text/plain": [
       "<AxesSubplot:ylabel='Density'>"
      ]
     },
     "execution_count": 31,
     "metadata": {},
     "output_type": "execute_result"
    },
    {
     "data": {
      "image/png": "[encoded data removed]",
      "text/plain": [
       "<Figure size 396.85x178.583 with 1 Axes>"
      ]
     },
     "metadata": {
      "image/png": {
       "height": 174,
       "width": 393
      },
      "needs_background": "light"
     },
     "output_type": "display_data"
    }
   ],
   "source": [
    "import seaborn as sns\n",
    "sns.kdeplot(samples.numpy(), bw_adjust=2.0, shade=True)"
   ]
  },
  {
   "cell_type": "code",
   "execution_count": 53,
   "metadata": {},
   "outputs": [
    {
     "data": {
      "image/png": "[encoded data removed]",
      "text/plain": [
       "<Figure size 396.85x178.583 with 1 Axes>"
      ]
     },
     "metadata": {
      "image/png": {
       "height": 174,
       "width": 393
      },
      "needs_background": "light"
     },
     "output_type": "display_data"
    }
   ],
   "source": [
    "### Laplace distribution v/s Normal distribution\n",
    "\n",
    "laplace = torch.distributions.Laplace(loc=0, scale=1)\n",
    "normal = torch.distributions.Normal(loc=0, scale=1)\n",
    "student_t_1 = torch.distributions.StudentT(df=1)\n",
    "student_t_2 = torch.distributions.StudentT(df=2)\n",
    "\n",
    "\n",
    "xs = torch.linspace(-6, 6, 500)\n",
    "ys_laplace = laplace.log_prob(xs).exp()\n",
    "plt.plot(xs, ys_laplace, color='C0', label='Laplace')\n",
    "\n",
    "ys_normal = normal.log_prob(xs).exp()\n",
    "plt.plot(xs, ys_normal, color='C1', label='Normal')\n",
    "\n",
    "ys_student_t_1 = student_t_1.log_prob(xs).exp()\n",
    "plt.plot(xs, ys_student_t_1, color='C2', label='Student T (df=1)')\n",
    "\n",
    "ys_student_t_2 = student_t_2.log_prob(xs).exp()\n",
    "plt.plot(xs, ys_student_t_2, color='C3', label='Student T (df=2)')\n",
    "\n",
    "plt.legend()\n",
    "\n",
    "zoom  = True\n",
    "if zoom:\n",
    "    plt.xlim(5, 6)\n",
    "    plt.ylim(-0.002, 0.02)"
   ]
  },
  {
   "cell_type": "code",
   "execution_count": 54,
   "metadata": {},
   "outputs": [
    {
     "data": {
      "text/plain": [
       "Interval(lower_bound=0.0, upper_bound=1.0)"
      ]
     },
     "execution_count": 54,
     "metadata": {},
     "output_type": "execute_result"
    }
   ],
   "source": [
    "### Beta distribution\n",
    "\n",
    "beta = torch.distributions.Beta(concentration1=2, concentration0=2)\n",
    "beta.support"
   ]
  },
  {
   "cell_type": "code",
   "execution_count": 56,
   "metadata": {},
   "outputs": [
    {
     "data": {
      "text/plain": [
       "<matplotlib.collections.PolyCollection at 0x7f5125cf0430>"
      ]
     },
     "execution_count": 56,
     "metadata": {},
     "output_type": "execute_result"
    },
    {
     "data": {
      "image/png": "[encoded data removed]",
      "text/plain": [
       "<Figure size 396.85x178.583 with 1 Axes>"
      ]
     },
     "metadata": {
      "image/png": {
       "height": 174,
       "width": 393
      },
      "needs_background": "light"
     },
     "output_type": "display_data"
    }
   ],
   "source": [
    "# PDF\n",
    "xs = torch.linspace(0, 1, 500)\n",
    "ys = beta.log_prob(xs).exp()\n",
    "plt.plot(xs, ys, color='C0')\n",
    "# Filled area\n",
    "plt.fill_between(xs, ys, color='C0', alpha=0.2)"
   ]
  },
  {
   "cell_type": "code",
   "execution_count": 66,
   "metadata": {},
   "outputs": [
    {
     "data": {
      "text/plain": [
       "tensor(0.3356)"
      ]
     },
     "execution_count": 66,
     "metadata": {},
     "output_type": "execute_result"
    }
   ],
   "source": [
    "s = beta.sample()\n",
    "s"
   ]
  },
  {
   "cell_type": "code",
   "execution_count": 62,
   "metadata": {},
   "outputs": [
    {
     "data": {
      "application/vnd.jupyter.widget-view+json": {
       "model_id": "4540f4ad14954e45a033adf3a46c4a55",
       "version_major": 2,
       "version_minor": 0
      },
      "text/plain": [
       "interactive(children=(FloatSlider(value=5.0, description='a', max=10.0, min=0.1), FloatSlider(value=5.0, descr…"
      ]
     },
     "metadata": {},
     "output_type": "display_data"
    },
    {
     "data": {
      "text/plain": [
       "<function __main__.plot_beta(a, b)>"
      ]
     },
     "execution_count": 62,
     "metadata": {},
     "output_type": "execute_result"
    }
   ],
   "source": [
    "# Add widget to play with parameters\n",
    "from ipywidgets import interact\n",
    "\n",
    "def plot_beta(a, b):\n",
    "    beta = torch.distributions.Beta(concentration1=a, concentration0=b)\n",
    "    xs = torch.linspace(0, 1, 500)\n",
    "    ys = beta.log_prob(xs).exp()\n",
    "    plt.plot(xs, ys, color='C0')\n",
    "    # Filled area\n",
    "    plt.fill_between(xs, ys, color='C0', alpha=0.2)\n",
    "\n",
    "interact(plot_beta,a=(0.1, 10, 0.1), b=(0.1, 10, 0.1))"
   ]
  },
  {
   "cell_type": "code",
   "execution_count": 63,
   "metadata": {},
   "outputs": [
    {
     "data": {
      "text/plain": [
       "Simplex()"
      ]
     },
     "execution_count": 63,
     "metadata": {},
     "output_type": "execute_result"
    }
   ],
   "source": [
    "### Dirichlet distribution\n",
    "\n",
    "dirichlet = torch.distributions.Dirichlet(concentration=torch.tensor([2.0, 2.0, 2.0]))\n",
    "dirichlet.support"
   ]
  },
  {
   "cell_type": "code",
   "execution_count": 65,
   "metadata": {},
   "outputs": [
    {
     "name": "stdout",
     "output_type": "stream",
     "text": [
      "tensor([0.2924, 0.3254, 0.3821]) tensor(1.)\n"
     ]
    }
   ],
   "source": [
    "s = dirichlet.sample()\n",
    "print(s, s.sum())"
   ]
  },
  {
   "cell_type": "code",
   "execution_count": 67,
   "metadata": {},
   "outputs": [
    {
     "name": "stdout",
     "output_type": "stream",
     "text": [
      "tensor([0.3898, 0.1071, 0.5030]) tensor(1.)\n"
     ]
    }
   ],
   "source": [
    "s = dirichlet.sample()\n",
    "print(s, s.sum())"
   ]
  },
  {
   "cell_type": "code",
   "execution_count": 68,
   "metadata": {},
   "outputs": [
    {
     "name": "stdout",
     "output_type": "stream",
     "text": [
      "tensor([0.8190, 0.0111, 0.1699]) tensor(1.)\n"
     ]
    }
   ],
   "source": [
    "dirichlet2 = torch.distributions.Dirichlet(concentration=torch.tensor([0.8, 0.1, 0.1]))\n",
    "s = dirichlet2.sample()\n",
    "print(s, s.sum())"
   ]
  }
 ],
 "metadata": {
  "kernelspec": {
   "display_name": "base",
   "language": "python",
   "name": "python3"
  },
  "language_info": {
   "codemirror_mode": {
    "name": "ipython",
    "version": 3
   },
   "file_extension": ".py",
   "mimetype": "text/x-python",
   "name": "python",
   "nbconvert_exporter": "python",
   "pygments_lexer": "ipython3",
   "version": "3.9.7"
  },
  "orig_nbformat": 4
 },
 "nbformat": 4,
 "nbformat_minor": 2
}
