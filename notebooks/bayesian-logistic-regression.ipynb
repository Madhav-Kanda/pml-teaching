{
 "cells": [
  {
   "cell_type": "markdown",
   "metadata": {},
   "source": [
    "## Imports"
   ]
  },
  {
   "cell_type": "code",
   "execution_count": 227,
   "metadata": {},
   "outputs": [],
   "source": [
    "import torch\n",
    "import torch.nn as nn\n",
    "import torch.distributions as dist\n",
    "from torch.func import jacfwd, hessian\n",
    "\n",
    "import tqdm\n",
    "import numpy as np\n",
    "import pandas as pd\n",
    "from sklearn.datasets import make_blobs\n",
    "\n",
    "from tueplots.bundles import beamer_moml\n",
    "import matplotlib.pyplot as plt\n",
    "\n",
    "# Use render mode to run the notebook and save the plots in beamer format\n",
    "# Use interactive mode to run the notebook and show the plots in notebook-friendly format\n",
    "mode = \"render\"  # \"interactive\" or \"render\"\n",
    "\n",
    "if mode == \"render\":\n",
    "    width = 0.6\n",
    "    plt.rcParams.update(beamer_moml(rel_width=width, rel_height=width * 0.8))\n",
    "    # update marker size\n",
    "    plt.rcParams.update({\"lines.markersize\": 4})\n",
    "    plt.rcParams[\"figure.facecolor\"] = \"none\"\n",
    "else:\n",
    "    plt.rcdefaults()"
   ]
  },
  {
   "cell_type": "code",
   "execution_count": 228,
   "metadata": {},
   "outputs": [],
   "source": [
    "def plt_show(name=None):\n",
    "    if mode == \"interactive\":\n",
    "        plt.show()\n",
    "    elif mode == \"render\":\n",
    "        plt.savefig(f\"../figures/bayesian-logistic-regression/{name}.pdf\")\n",
    "    else:\n",
    "        raise ValueError(f\"Unknown mode: {mode}\")\n"
   ]
  },
  {
   "cell_type": "markdown",
   "metadata": {},
   "source": [
    "## Data"
   ]
  },
  {
   "cell_type": "code",
   "execution_count": 229,
   "metadata": {},
   "outputs": [
    {
     "data": {
      "text/html": [
       "<div>\n",
       "<style scoped>\n",
       "    .dataframe tbody tr th:only-of-type {\n",
       "        vertical-align: middle;\n",
       "    }\n",
       "\n",
       "    .dataframe tbody tr th {\n",
       "        vertical-align: top;\n",
       "    }\n",
       "\n",
       "    .dataframe thead th {\n",
       "        text-align: right;\n",
       "    }\n",
       "</style>\n",
       "<table border=\"1\" class=\"dataframe\">\n",
       "  <thead>\n",
       "    <tr style=\"text-align: right;\">\n",
       "      <th></th>\n",
       "      <th>x1</th>\n",
       "      <th>x2</th>\n",
       "      <th>y</th>\n",
       "    </tr>\n",
       "  </thead>\n",
       "  <tbody>\n",
       "    <tr>\n",
       "      <th>0</th>\n",
       "      <td>-5.973556</td>\n",
       "      <td>-10.676098</td>\n",
       "      <td>0</td>\n",
       "    </tr>\n",
       "    <tr>\n",
       "      <th>1</th>\n",
       "      <td>-0.439282</td>\n",
       "      <td>5.901450</td>\n",
       "      <td>1</td>\n",
       "    </tr>\n",
       "    <tr>\n",
       "      <th>2</th>\n",
       "      <td>-0.972880</td>\n",
       "      <td>3.266332</td>\n",
       "      <td>1</td>\n",
       "    </tr>\n",
       "    <tr>\n",
       "      <th>3</th>\n",
       "      <td>-5.298977</td>\n",
       "      <td>-9.920072</td>\n",
       "      <td>0</td>\n",
       "    </tr>\n",
       "  </tbody>\n",
       "</table>\n",
       "</div>"
      ],
      "text/plain": [
       "         x1         x2  y\n",
       "0 -5.973556 -10.676098  0\n",
       "1 -0.439282   5.901450  1\n",
       "2 -0.972880   3.266332  1\n",
       "3 -5.298977  -9.920072  0"
      ]
     },
     "execution_count": 229,
     "metadata": {},
     "output_type": "execute_result"
    }
   ],
   "source": [
    "X_np, y_np = make_blobs(\n",
    "    n_samples=20, n_features=2, centers=2, random_state=11, cluster_std=1\n",
    ")\n",
    "df = pd.DataFrame(dict(x1=X_np[:, 0], x2=X_np[:, 1], y=y_np))\n",
    "\n",
    "df.head(4)"
   ]
  },
  {
   "cell_type": "code",
   "execution_count": 230,
   "metadata": {},
   "outputs": [
    {
     "data": {
      "image/png": "[encoded data removed]",
      "text/plain": [
       "<Figure size 330.709x148.819 with 1 Axes>"
      ]
     },
     "metadata": {
      "needs_background": "light"
     },
     "output_type": "display_data"
    }
   ],
   "source": [
    "ones_df = df[df.y == 1]\n",
    "zeros_df = df[df.y == 0]\n",
    "plt.scatter(ones_df.x1, ones_df.x2, marker=\"o\", label=\"$y=1$\", c=\"tab:blue\")\n",
    "plt.scatter(zeros_df.x1, zeros_df.x2, marker=\"x\", label=\"$y=0$\", c=\"tab:red\")\n",
    "plt.xlabel(\"$x_1$\")\n",
    "plt.ylabel(\"$x_2$\")\n",
    "plt.legend(bbox_to_anchor=(1.3, 1))\n",
    "plt_show(\"data\")"
   ]
  },
  {
   "cell_type": "code",
   "execution_count": 231,
   "metadata": {},
   "outputs": [
    {
     "name": "stdout",
     "output_type": "stream",
     "text": [
      "\\begin{tabular}{lrrr}\n",
      " & x1 & x2 & y \\\\\n",
      "0 & -5.97 & -10.68 & 0.00 \\\\\n",
      "1 & -0.44 & 5.90 & 1.00 \\\\\n",
      "2 & -0.97 & 3.27 & 1.00 \\\\\n",
      "3 & -5.30 & -9.92 & 0.00 \\\\\n",
      "\\end{tabular}\n",
      "\n"
     ]
    }
   ],
   "source": [
    "if mode == \"render\":\n",
    "    print(df.head(4).style.format(\"{:.2f}\").to_latex())"
   ]
  },
  {
   "cell_type": "code",
   "execution_count": 232,
   "metadata": {},
   "outputs": [
    {
     "data": {
      "text/plain": [
       "(torch.Size([20, 2]), torch.Size([20, 1]))"
      ]
     },
     "execution_count": 232,
     "metadata": {},
     "output_type": "execute_result"
    }
   ],
   "source": [
    "X, y = map(lambda x: torch.tensor(x, dtype=torch.float32), (X_np, y_np))\n",
    "y = y.reshape(-1, 1)\n",
    "X.shape, y.shape\n"
   ]
  },
  {
   "cell_type": "markdown",
   "metadata": {},
   "source": [
    "## MLE"
   ]
  },
  {
   "cell_type": "code",
   "execution_count": 233,
   "metadata": {},
   "outputs": [],
   "source": [
    "def negative_log_likelihood(theta, y):\n",
    "    probs = torch.sigmoid(X @ theta)\n",
    "    # print(probs.shape, y.shape)\n",
    "    return -torch.sum(y * torch.log(probs) + (1 - y) * torch.log(1 - probs))\n"
   ]
  },
  {
   "cell_type": "code",
   "execution_count": 234,
   "metadata": {},
   "outputs": [
    {
     "name": "stderr",
     "output_type": "stream",
     "text": [
      "loss: 0.02: 100%|██████████| 1000/1000 [00:01<00:00, 762.19it/s]\n"
     ]
    }
   ],
   "source": [
    "torch.manual_seed(42)\n",
    "theta = torch.randn(2, 1, requires_grad=True)\n",
    "epochs = 1000\n",
    "\n",
    "optimizer = torch.optim.Adam([theta], lr=0.01)\n",
    "\n",
    "losses = []\n",
    "pbar = tqdm.trange(epochs)\n",
    "for epoch in pbar:\n",
    "    optimizer.zero_grad()\n",
    "    loss = negative_log_likelihood(theta, y)\n",
    "    loss.backward()\n",
    "    optimizer.step()\n",
    "    losses.append(loss.item())\n",
    "    pbar.set_description(f\"loss: {loss.item():.2f}\")\n"
   ]
  },
  {
   "cell_type": "code",
   "execution_count": 235,
   "metadata": {},
   "outputs": [
    {
     "data": {
      "text/plain": [
       "[<matplotlib.lines.Line2D at 0x7f320831ef10>]"
      ]
     },
     "execution_count": 235,
     "metadata": {},
     "output_type": "execute_result"
    },
    {
     "data": {
      "image/png": "[encoded data removed]",
      "text/plain": [
       "<Figure size 330.709x148.819 with 1 Axes>"
      ]
     },
     "metadata": {
      "needs_background": "light"
     },
     "output_type": "display_data"
    }
   ],
   "source": [
    "plt.plot(losses)\n"
   ]
  },
  {
   "cell_type": "markdown",
   "metadata": {},
   "source": [
    "### Plot decision boundary"
   ]
  },
  {
   "cell_type": "code",
   "execution_count": 236,
   "metadata": {},
   "outputs": [
    {
     "data": {
      "image/png": "[encoded data removed]",
      "text/plain": [
       "<Figure size 330.709x148.819 with 2 Axes>"
      ]
     },
     "metadata": {
      "needs_background": "light"
     },
     "output_type": "display_data"
    }
   ],
   "source": [
    "def plot_decision_boundary(name):\n",
    "    x0_grid = torch.linspace(X[:, 0].min() - 1, X[:, 0].max() + 1, 20).reshape(-1, 1)\n",
    "    x1_grid = torch.linspace(X[:, 1].min() - 1, X[:, 1].max() + 1, 20).reshape(-1, 1)\n",
    "    X0, X1 = torch.meshgrid(x0_grid.ravel(), x1_grid.ravel())\n",
    "\n",
    "    f = lambda x1, x2: torch.sigmoid(theta[0] * x1 + theta[1] * x2).squeeze()\n",
    "    f = torch.vmap(torch.vmap(f))\n",
    "\n",
    "    with torch.no_grad():\n",
    "        probs = f(X0, X1)\n",
    "\n",
    "    fig, ax = plt.subplots(1, 2, gridspec_kw=dict(width_ratios=[1, 0.05]))\n",
    "    ax[0].scatter(ones_df.x1, ones_df.x2, marker=\"o\", label=\"$y=1$\", c=\"tab:blue\")\n",
    "    ax[0].scatter(zeros_df.x1, zeros_df.x2, marker=\"x\", label=\"$y=0$\", c=\"tab:red\")\n",
    "    mappable = ax[0].contourf(\n",
    "        X0, X1, probs, levels=20, alpha=0.5, cmap=\"RdBu\", vmin=0, vmax=1\n",
    "    )\n",
    "    ax[0].set_xlabel(\"$x_1$\")\n",
    "    ax[0].set_ylabel(\"$x_2$\")\n",
    "    sigma_term = \"$\\sigma^2$\" + f\" = {variance:.3f}, \" if name.startswith(\"map\") else \"\"\n",
    "    ax[0].set_title(\n",
    "        sigma_term\n",
    "        + \"$\\\\theta_1 = $\"\n",
    "        + f\"{theta[0].item():.3f}, $\\\\theta_2 = $\"\n",
    "        + f\"{theta[1].item():.3f}\"\n",
    "    )\n",
    "    cbar = fig.colorbar(mappable, ticks=np.linspace(0, 1, 5), cax=ax[1])\n",
    "    fig.legend(bbox_to_anchor=(1.2, 1))\n",
    "    plt_show(name)\n",
    "\n",
    "\n",
    "plot_decision_boundary(\"mle\")\n"
   ]
  },
  {
   "cell_type": "markdown",
   "metadata": {},
   "source": [
    "## MAP"
   ]
  },
  {
   "cell_type": "code",
   "execution_count": 237,
   "metadata": {},
   "outputs": [],
   "source": [
    "def neg_log_prior(theta, variance):\n",
    "    return -dist.Normal(0, variance**0.5).log_prob(theta).sum()\n",
    "\n",
    "\n",
    "def negative_log_joint(theta, variance):\n",
    "    return (\n",
    "        negative_log_likelihood(theta, y).sum() + neg_log_prior(theta, variance)\n",
    "    ).squeeze()\n"
   ]
  },
  {
   "cell_type": "code",
   "execution_count": 238,
   "metadata": {},
   "outputs": [
    {
     "name": "stderr",
     "output_type": "stream",
     "text": [
      "loss: 3.78: 100%|██████████| 500/500 [00:00<00:00, 568.00it/s]\n"
     ]
    }
   ],
   "source": [
    "torch.manual_seed(42)\n",
    "variance = 0.01\n",
    "theta = torch.randn(2, 1, requires_grad=True)\n",
    "epochs = 500\n",
    "\n",
    "optimizer = torch.optim.Adam([theta], lr=0.01)\n",
    "\n",
    "losses = []\n",
    "pbar = tqdm.trange(epochs)\n",
    "for epoch in pbar:\n",
    "    optimizer.zero_grad()\n",
    "    loss = negative_log_joint(theta, variance).mean()\n",
    "    loss.backward()\n",
    "    optimizer.step()\n",
    "    losses.append(loss.item())\n",
    "    pbar.set_description(f\"loss: {loss.item():.2f}\")\n"
   ]
  },
  {
   "cell_type": "code",
   "execution_count": 239,
   "metadata": {},
   "outputs": [
    {
     "data": {
      "text/plain": [
       "[<matplotlib.lines.Line2D at 0x7f3160ed23d0>]"
      ]
     },
     "execution_count": 239,
     "metadata": {},
     "output_type": "execute_result"
    },
    {
     "data": {
      "image/png": "[encoded data removed]",
      "text/plain": [
       "<Figure size 330.709x148.819 with 1 Axes>"
      ]
     },
     "metadata": {
      "needs_background": "light"
     },
     "output_type": "display_data"
    }
   ],
   "source": [
    "plt.plot(losses)"
   ]
  },
  {
   "cell_type": "markdown",
   "metadata": {},
   "source": [
    "### Plot decision boundary"
   ]
  },
  {
   "cell_type": "code",
   "execution_count": 240,
   "metadata": {},
   "outputs": [
    {
     "data": {
      "image/png": "[encoded data removed]",
      "text/plain": [
       "<Figure size 330.709x148.819 with 2 Axes>"
      ]
     },
     "metadata": {
      "needs_background": "light"
     },
     "output_type": "display_data"
    }
   ],
   "source": [
    "plot_decision_boundary(f\"map_{variance}\")\n"
   ]
  },
  {
   "cell_type": "markdown",
   "metadata": {},
   "source": [
    "## Laplace approximation"
   ]
  },
  {
   "cell_type": "code",
   "execution_count": 241,
   "metadata": {},
   "outputs": [
    {
     "name": "stdout",
     "output_type": "stream",
     "text": [
      "tensor([[ 0.0020, -0.0007],\n",
      "        [-0.0007,  0.0006]], grad_fn=<LinalgInvExBackward0>)\n"
     ]
    }
   ],
   "source": [
    "with torch.no_grad():\n",
    "    probs = torch.sigmoid(X @ theta)\n",
    "hess = hessian(negative_log_joint)(theta.ravel(), torch.tensor(variance))\n",
    "\n",
    "cov = torch.inverse(hess)\n",
    "print(cov)\n",
    "posterior = dist.MultivariateNormal(theta.ravel(), cov)"
   ]
  },
  {
   "cell_type": "code",
   "execution_count": 242,
   "metadata": {},
   "outputs": [
    {
     "name": "stdout",
     "output_type": "stream",
     "text": [
      "torch.Size([1000, 20, 20])\n"
     ]
    },
    {
     "data": {
      "image/png": "[encoded data removed]",
      "text/plain": [
       "<Figure size 330.709x148.819 with 2 Axes>"
      ]
     },
     "metadata": {
      "needs_background": "light"
     },
     "output_type": "display_data"
    }
   ],
   "source": [
    "name = f\"map_laplace-{variance}\"\n",
    "x0_grid = torch.linspace(X[:, 0].min() - 1, X[:, 0].max() + 1, 20).reshape(-1, 1)\n",
    "x1_grid = torch.linspace(X[:, 1].min() - 1, X[:, 1].max() + 1, 20).reshape(-1, 1)\n",
    "X0, X1 = torch.meshgrid(x0_grid.ravel(), x1_grid.ravel())\n",
    "\n",
    "\n",
    "def get_probs(theta):\n",
    "    f = lambda x1, x2: torch.sigmoid(theta[0] * x1 + theta[1] * x2).squeeze()\n",
    "    f = torch.vmap(torch.vmap(f))\n",
    "\n",
    "    with torch.no_grad():\n",
    "        probs = f(X0, X1)\n",
    "    return probs\n",
    "\n",
    "\n",
    "theta_samples = posterior.sample((1000,))\n",
    "probs = torch.stack([get_probs(theta) for theta in theta_samples])\n",
    "print(probs.shape)\n",
    "probs = probs.mean(0)\n",
    "\n",
    "fig, ax = plt.subplots(1, 2, gridspec_kw=dict(width_ratios=[1, 0.05]))\n",
    "ax[0].scatter(ones_df.x1, ones_df.x2, marker=\"o\", label=\"$y=1$\", c=\"tab:blue\")\n",
    "ax[0].scatter(zeros_df.x1, zeros_df.x2, marker=\"x\", label=\"$y=0$\", c=\"tab:red\")\n",
    "mappable = ax[0].contourf(\n",
    "    X0, X1, probs, levels=20, alpha=0.5, cmap=\"RdBu\", vmin=0, vmax=1\n",
    ")\n",
    "ax[0].set_xlabel(\"$x_1$\")\n",
    "ax[0].set_ylabel(\"$x_2$\")\n",
    "sigma_term = \"$\\sigma^2$\" + f\" = {variance:.3f}, \" if name.startswith(\"map\") else \"\"\n",
    "ax[0].set_title(\n",
    "    sigma_term\n",
    "    + \"$\\\\theta_1 = $\"\n",
    "    + f\"{theta[0].item():.3f}, $\\\\theta_2 = $\"\n",
    "    + f\"{theta[1].item():.3f}\"\n",
    ")\n",
    "cbar = fig.colorbar(mappable, ticks=np.linspace(0, 1, 5), cax=ax[1])\n",
    "fig.legend(bbox_to_anchor=(1.2, 1))\n",
    "plt_show(name)\n"
   ]
  },
  {
   "cell_type": "markdown",
   "metadata": {},
   "source": [
    "## Appendix"
   ]
  },
  {
   "cell_type": "markdown",
   "metadata": {},
   "source": [
    "Can we find closed form MLE solution for Bayesian Logistic Regression? It seems, yes. Stay tuned!"
   ]
  }
 ],
 "metadata": {
  "kernelspec": {
   "display_name": "torch_dt",
   "language": "python",
   "name": "python3"
  },
  "language_info": {
   "codemirror_mode": {
    "name": "ipython",
    "version": 3
   },
   "file_extension": ".py",
   "mimetype": "text/x-python",
   "name": "python",
   "nbconvert_exporter": "python",
   "pygments_lexer": "ipython3",
   "version": "3.9.7"
  },
  "orig_nbformat": 4
 },
 "nbformat": 4,
 "nbformat_minor": 2
}
